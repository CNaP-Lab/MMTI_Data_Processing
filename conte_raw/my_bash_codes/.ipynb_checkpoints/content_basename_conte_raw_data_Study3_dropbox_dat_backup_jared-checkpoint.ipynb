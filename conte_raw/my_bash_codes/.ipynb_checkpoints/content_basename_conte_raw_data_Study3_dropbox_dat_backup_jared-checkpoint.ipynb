{
 "cells": [
  {
   "cell_type": "code",
   "execution_count": 1,
   "metadata": {},
   "outputs": [],
   "source": [
    "import numpy as np\n",
    "import os\n",
    "from os.path import basename\n"
   ]
  },
  {
   "cell_type": "code",
   "execution_count": 2,
   "metadata": {},
   "outputs": [],
   "source": [
    "def content_basename(f1, f2):\n",
    "    \"\"\"\n",
    "    This function will take two files(which has the pathname of the dir contents)\n",
    "    and read line by line and store those into separate\n",
    "    two lists. Also remove whitespace characters like `\\n` at the end of each line.\n",
    "    Then find the basename of the pathname and store in anotehr two lists\n",
    "    Finally check whether the file (basename) in the fist dir is presnet in the\n",
    "    second dir. Print out the pathnames not in the first dir.\n",
    "    \"\"\"\n",
    "    with open(f1) as f:\n",
    "        f1_data = f.readlines()\n",
    "    f1_data = [x.strip() for x in f1_data] \n",
    "    with open(f2) as f:\n",
    "        f2_data = f.readlines()\n",
    "    f2_data = [x.strip() for x in f2_data] \n",
    "    \n",
    "    f1_base = []\n",
    "    f2_base = []\n",
    "    \n",
    "    for i in f1_data:\n",
    "        f1_base.append(basename(i))\n",
    "        \n",
    "    for i in f2_data:\n",
    "        f2_base.append(basename(i))\n",
    "        \n",
    "    for i, j in enumerate(f1_base):\n",
    "        if j not in f2_base:\n",
    "            print (f1_data[i])\n",
    "    \n",
    "    return f1_base, f2_base"
   ]
  },
  {
   "cell_type": "code",
   "execution_count": 3,
   "metadata": {},
   "outputs": [
    {
     "name": "stdout",
     "output_type": "stream",
     "text": [
      "/mnt/hcp01/codes\n"
     ]
    }
   ],
   "source": [
    "cd .."
   ]
  },
  {
   "cell_type": "code",
   "execution_count": 4,
   "metadata": {},
   "outputs": [
    {
     "name": "stdout",
     "output_type": "stream",
     "text": [
      "/mnt/hcp01/codes/outputs/conte_raw_S3_pathnames\n"
     ]
    }
   ],
   "source": [
    "cd outputs/conte_raw_S3_pathnames/"
   ]
  },
  {
   "cell_type": "code",
   "execution_count": 5,
   "metadata": {},
   "outputs": [
    {
     "name": "stdout",
     "output_type": "stream",
     "text": [
      "./Day 1/SCAN data/DAR-1020-BASELINE_WIP_SELFORDER_7_SENSE_11_1.PAR\n",
      "./Day 1/SCAN data/DAR-1020-BASELINE_WIP_SELFORDER_7_SENSE_11_1.REC\n",
      "./Day 1/SCAN data/DAR-1020-BASELINE_WIP_SELFORDER_7_SENSE_14_1.PAR\n",
      "./Day 1/SCAN data/DAR-1020-BASELINE_SURVEY_12_1.PAR\n",
      "./Day 1/SCAN data/DAR-1020-BASELINE_SURVEY_12_1.REC\n",
      "./Day 1/SCAN data/DAR-1020-BASELINE_SURVEY_1_1.PAR\n",
      "./Day 1/SCAN data/DAR-1020-BASELINE_SURVEY_1_1.REC\n",
      "./Day 1/SCAN data/DAR-1020-BASELINE_WIP_SELFORDER_7_SENSE_14_1.REC\n",
      "./Day 1/SCAN data/hc_1010270940242_1.png\n",
      "./Day 1/SCAN data/Default.rdp\n",
      "./Day 1/SCAN data/hc_1010270909251_1.png\n",
      "./Day 1/SCAN data/DAR-1020-BASELINE_WIP_SELFORDER_1_SENSE_4_1.PAR\n",
      "./Day 1/SCAN data/DAR-1020-BASELINE_WIP_SELFORDER_1_SENSE_4_1.REC\n",
      "./Day 1/SCAN data/FUNK CALC.txt\n"
     ]
    }
   ],
   "source": [
    "drop_01, dbj_01 = content_basename(\"dropbox_Study3_SP01.txt\", \"dbj_SP01.txt\")"
   ]
  },
  {
   "cell_type": "code",
   "execution_count": 6,
   "metadata": {},
   "outputs": [
    {
     "name": "stdout",
     "output_type": "stream",
     "text": [
      "./Day 1\n",
      "./Day 1/SCAN data\n",
      "./Day 1/SCAN data/DAR_1021_BASELINE_SURVEY_1_1.PAR\n",
      "./Day 1/SCAN data/DAR_1021_BASELINE_SURVEY_1_1.REC\n",
      "./Day 1/SCAN data/DAR_1021_BASELINE_WIP_SELFORDER_1_SENSE_4_1.REC\n",
      "./Day 1/SCAN data/DAR_1021_BASELINE_WIP_SELFORDER_1_SENSE_4_1.PAR\n",
      "./Day 1/behavioral data\n",
      "./Day 2\n",
      "./Day 2/Behavioral data\n",
      "./Day 2/Scan data\n",
      "./Day 2/Scan data/DAR_1021_SPO2_SURVEY_1_1.PAR\n",
      "./Day 2/Scan data/DAR_1021_SPO2_SURVEY_1_1.REC\n"
     ]
    }
   ],
   "source": [
    "drop_02, dbj_02 = content_basename(\"dropbox_Study3_SP02.txt\", \"dbj_SP02.txt\")"
   ]
  },
  {
   "cell_type": "code",
   "execution_count": 7,
   "metadata": {},
   "outputs": [
    {
     "name": "stdout",
     "output_type": "stream",
     "text": [
      "./Day 1/SCAN data/SP03_SURVEY_1_1.PAR\n",
      "./Day 1/SCAN data/SP03_SURVEY_1_1.REC\n",
      "./Day 1/SCAN data/SP03_WIP_WIP_SELFORDER_3_SENSE_5_1.PAR\n",
      "./Day 1/SCAN data/SP03_WIP_WIP_SELFORDER_3_SENSE_5_1.REC\n",
      "./Day 1/SCAN data/SP03_WIP_WIP_SELFORDER_3_SENSE_6_1.PAR\n",
      "./Day 1/SCAN data/SP03_WIP_WIP_SELFORDER_3_SENSE_6_1.REC\n",
      "./Day 1/SCAN data/SP03_WIP_WIP_SELFORDER_6SENSE_SENSE_10_1.PAR\n",
      "./Day 1/SCAN data/SP03_WIP_WIP_SELFORDER_6SENSE_SENSE_10_1.REC\n",
      "./Day 1/SCAN data/SP03_WIP_WIP_SELFORDER_6SENSE_SENSE_11_1.PAR\n",
      "./Day 1/SCAN data/SP03_WIP_WIP_SELFORDER_6SENSE_SENSE_11_1.REC\n"
     ]
    }
   ],
   "source": [
    "drop_03, dbj_03 = content_basename(\"dropbox_Study3_SP03.txt\", \"dbj_SP03.txt\")"
   ]
  },
  {
   "cell_type": "code",
   "execution_count": 8,
   "metadata": {},
   "outputs": [
    {
     "name": "stdout",
     "output_type": "stream",
     "text": [
      "./SCAN data/Day 1/DAR1023_WIP_WIP_SELFORDER_1_SENSE_3_1.PAR\n",
      "./SCAN data/Day 1/DAR1023_WIP_WIP_SELFORDER_1_SENSE_3_1.REC\n"
     ]
    }
   ],
   "source": [
    "drop_04, dbj_04 = content_basename(\"dropbox_Study3_SP04.txt\", \"dbj_SP04.txt\")"
   ]
  },
  {
   "cell_type": "code",
   "execution_count": 9,
   "metadata": {},
   "outputs": [
    {
     "name": "stdout",
     "output_type": "stream",
     "text": [
      "./Day 1/SCAN data/DAR_1029_WIP_SELFORDER_2_SENSE_4_1.PAR\n",
      "./Day 1/SCAN data/DAR_1029_WIP_SELFORDER_2_SENSE_4_1.REC\n"
     ]
    }
   ],
   "source": [
    "drop_05, dbj_05 = content_basename(\"dropbox_Study3_SP05.txt\", \"dbj_SP05.txt\")"
   ]
  },
  {
   "cell_type": "code",
   "execution_count": 10,
   "metadata": {},
   "outputs": [],
   "source": [
    "drop_06, dbj_06 = content_basename(\"dropbox_Study3_SP06.txt\", \"dbj_SP06.txt\")"
   ]
  },
  {
   "cell_type": "code",
   "execution_count": 12,
   "metadata": {},
   "outputs": [],
   "source": [
    "drop_07, dbj_07 = content_basename(\"dropbox_Study3_SP07.txt\", \"dbj_SP07.txt\")"
   ]
  },
  {
   "cell_type": "code",
   "execution_count": 13,
   "metadata": {},
   "outputs": [
    {
     "name": "stdout",
     "output_type": "stream",
     "text": [
      "./Day 1/SCAN data/DAR1031_V1_WIP_WIP_SELFORDER_2_SENSE_4_1.PAR\n",
      "./Day 1/SCAN data/DAR1031_V1_WIP_WIP_SELFORDER_2_SENSE_4_1.REC\n"
     ]
    }
   ],
   "source": [
    "drop_08, dbj_08 = content_basename(\"dropbox_Study3_SP08.txt\", \"dbj_SP08.txt\")"
   ]
  },
  {
   "cell_type": "code",
   "execution_count": 14,
   "metadata": {},
   "outputs": [
    {
     "name": "stdout",
     "output_type": "stream",
     "text": [
      "./Day 1/SCAN data/DAR1032_BENA73_v1_WIP_WIP_SELFORDER_5_SENSE_7_1.PAR\n",
      "./Day 1/SCAN data/DAR1032_BENA73_v1_WIP_WIP_SELFORDER_5_SENSE_7_1.REC\n"
     ]
    }
   ],
   "source": [
    "drop_09, dbj_09 = content_basename(\"dropbox_Study3_SP09.txt\", \"dbj_SP09.txt\")"
   ]
  },
  {
   "cell_type": "code",
   "execution_count": 15,
   "metadata": {},
   "outputs": [],
   "source": [
    "drop_10, dbj_10 = content_basename(\"dropbox_Study3_SP10.txt\", \"dbj_SP10.txt\")"
   ]
  },
  {
   "cell_type": "code",
   "execution_count": 16,
   "metadata": {},
   "outputs": [
    {
     "name": "stdout",
     "output_type": "stream",
     "text": [
      "./Day 1/SCAN data/DAR1030_EDWT71_V1_WIP_WIP_SELFORDER_2_SENSE_4_1.PAR\n",
      "./Day 1/SCAN data/DAR1030_EDWT71_V1_WIP_WIP_SELFORDER_2_SENSE_4_1.REC\n",
      "./Day 2/SCAN_data/DAR_1030_v2_WIP_WIP_NBACK_1_SENSE_16_1.PAR\n",
      "./Day 2/SCAN_data/DAR_1030_v2_WIP_WIP_NBACK_1_SENSE_16_1.REC\n"
     ]
    }
   ],
   "source": [
    "drop_11, dbj_11 = content_basename(\"dropbox_Study3_SP11.txt\", \"dbj_SP11.txt\")"
   ]
  },
  {
   "cell_type": "code",
   "execution_count": 17,
   "metadata": {},
   "outputs": [],
   "source": [
    "drop_12, dbj_12 = content_basename(\"dropbox_Study3_SP12.txt\", \"dbj_SP12.txt\")"
   ]
  },
  {
   "cell_type": "code",
   "execution_count": 18,
   "metadata": {},
   "outputs": [],
   "source": [
    "drop_13, dbj_13 = content_basename(\"dropbox_Study3_SP13.txt\", \"dbj_SP13.txt\")"
   ]
  },
  {
   "cell_type": "code",
   "execution_count": 19,
   "metadata": {},
   "outputs": [
    {
     "name": "stdout",
     "output_type": "stream",
     "text": [
      "./day 1/scan data/DAR1035_WIP_WIP_SELFORDER_1_SENSE_3_1.PAR\n",
      "./day 1/scan data/DAR1035_WIP_WIP_SELFORDER_1_SENSE_3_1.REC\n"
     ]
    }
   ],
   "source": [
    "drop_14, dbj_14 = content_basename(\"dropbox_Study3_SP14.txt\", \"dbj_SP14.txt\")"
   ]
  },
  {
   "cell_type": "code",
   "execution_count": 20,
   "metadata": {},
   "outputs": [],
   "source": [
    "drop_15, dbj_15 = content_basename(\"dropbox_Study3_SP15.txt\", \"dbj_SP15.txt\")"
   ]
  },
  {
   "cell_type": "code",
   "execution_count": 21,
   "metadata": {},
   "outputs": [],
   "source": [
    "drop_16, dbj_16 = content_basename(\"dropbox_Study3_SP16.txt\", \"dbj_SP16.txt\")"
   ]
  },
  {
   "cell_type": "code",
   "execution_count": 22,
   "metadata": {},
   "outputs": [],
   "source": [
    "drop_17, dbj_17 = content_basename(\"dropbox_Study3_SP17.txt\", \"dbj_SP17.txt\")"
   ]
  },
  {
   "cell_type": "code",
   "execution_count": 23,
   "metadata": {},
   "outputs": [
    {
     "name": "stdout",
     "output_type": "stream",
     "text": [
      "./Day_1/scan_data/DAR1040_V1_WIP_WIP_SELFORDER_2_SENSE_7_1.PAR\n",
      "./Day_1/scan_data/DAR1040_V1_WIP_WIP_SELFORDER_2_SENSE_7_1.REC\n"
     ]
    }
   ],
   "source": [
    "drop_18, dbj_18 = content_basename(\"dropbox_Study3_SP18.txt\", \"dbj_SP18.txt\")"
   ]
  },
  {
   "cell_type": "code",
   "execution_count": 25,
   "metadata": {},
   "outputs": [],
   "source": [
    "drop_19, dbj_19 = content_basename(\"dropbox_Study3_SP19.txt\", \"dbj_SP19.txt\")"
   ]
  },
  {
   "cell_type": "code",
   "execution_count": 26,
   "metadata": {},
   "outputs": [],
   "source": [
    "drop_20, dbj_20 = content_basename(\"dropbox_Study3_SP20.txt\", \"dbj_SP20.txt\")"
   ]
  },
  {
   "cell_type": "code",
   "execution_count": 27,
   "metadata": {},
   "outputs": [],
   "source": [
    "drop_21, dbj_21 = content_basename(\"dropbox_Study3_SP21.txt\", \"dbj_SP21.txt\")"
   ]
  },
  {
   "cell_type": "code",
   "execution_count": 28,
   "metadata": {},
   "outputs": [],
   "source": [
    "drop_22, dbj_22 = content_basename(\"dropbox_Study3_SP22.txt\", \"dbj_SP22.txt\")"
   ]
  },
  {
   "cell_type": "code",
   "execution_count": 29,
   "metadata": {},
   "outputs": [],
   "source": [
    "drop_23, dbj_23 = content_basename(\"dropbox_Study3_SP23.txt\", \"dbj_SP23.txt\")"
   ]
  },
  {
   "cell_type": "code",
   "execution_count": 30,
   "metadata": {},
   "outputs": [
    {
     "name": "stdout",
     "output_type": "stream",
     "text": [
      "./day_1/scan_data/DAR1046_V1_SURVEY_11_1.PAR\n",
      "./day_1/scan_data/DAR1046_V1_SURVEY_11_1.REC\n",
      "./day_1/scan_data/DAR1046_V1_SURVEY_1_1.PAR\n",
      "./day_1/scan_data/DAR1046_V1_SURVEY_1_1.REC\n",
      "./day_2/scan_data/DAR1046_V2_SURVEY_1_1.PAR\n",
      "./day_2/scan_data/DAR1046_V2_SURVEY_1_1.REC\n"
     ]
    }
   ],
   "source": [
    "drop_24, dbj_24 = content_basename(\"dropbox_Study3_SP24.txt\", \"dbj_SP24.txt\")"
   ]
  },
  {
   "cell_type": "code",
   "execution_count": 31,
   "metadata": {},
   "outputs": [
    {
     "name": "stdout",
     "output_type": "stream",
     "text": [
      "./day_2/scan_data/DAR_1047_V2_SURVEY_1_1.PAR\n",
      "./day_2/scan_data/DAR_1047_V2_SURVEY_1_1.REC\n"
     ]
    }
   ],
   "source": [
    "drop_25, dbj25 = content_basename(\"dropbox_Study3_SP25.txt\", \"dbj_SP25.txt\")"
   ]
  },
  {
   "cell_type": "code",
   "execution_count": 32,
   "metadata": {},
   "outputs": [],
   "source": [
    "drop_26, dbj_26= content_basename(\"dropbox_Study3_SP26.txt\", \"dbj_SP26.txt\")"
   ]
  },
  {
   "cell_type": "code",
   "execution_count": 33,
   "metadata": {},
   "outputs": [],
   "source": [
    "drop_27, dbj_27 = content_basename(\"dropbox_Study3_SP27.txt\", \"dbj_SP27.txt\")"
   ]
  },
  {
   "cell_type": "code",
   "execution_count": 34,
   "metadata": {},
   "outputs": [
    {
     "name": "stdout",
     "output_type": "stream",
     "text": [
      "./day_1_second_visit/scan_data/DAR1050_V1_DAY2_SPGR_SENSE_18_1.hdr\n",
      "./day_1_second_visit/scan_data/DAR1050_V1_DAY2_SPGR_SENSE_18_1.img\n"
     ]
    }
   ],
   "source": [
    "drop_28, dbj_28 = content_basename(\"dropbox_Study3_SP28.txt\", \"dbj_SP28.txt\")"
   ]
  },
  {
   "cell_type": "code",
   "execution_count": 35,
   "metadata": {},
   "outputs": [],
   "source": [
    "drop_29, dbj_29 = content_basename(\"dropbox_Study3_SP29.txt\", \"dbj_SP29.txt\")"
   ]
  },
  {
   "cell_type": "code",
   "execution_count": 36,
   "metadata": {},
   "outputs": [
    {
     "name": "stdout",
     "output_type": "stream",
     "text": [
      "./day_1/scan_data/DAR1051_V1_SURVEY_1_1.PAR\n",
      "./day_1/scan_data/DAR1051_V1_SURVEY_1_1.REC\n"
     ]
    }
   ],
   "source": [
    "drop_30, dbj_30 = content_basename(\"dropbox_Study3_SP30.txt\", \"dbj_SP30.txt\")"
   ]
  },
  {
   "cell_type": "code",
   "execution_count": 37,
   "metadata": {},
   "outputs": [
    {
     "name": "stdout",
     "output_type": "stream",
     "text": [
      "./Day_1/scan_data/DAR1052_V1_WIP_WIP_SELFORDER_5_SENSE_7_1.PAR\n",
      "./Day_1/scan_data/DAR1052_V1_WIP_WIP_SELFORDER_5_SENSE_7_1.REC\n"
     ]
    }
   ],
   "source": [
    "drop_31, dbj_31 = content_basename(\"dropbox_Study3_SP31.txt\", \"dbj_SP31.txt\")"
   ]
  },
  {
   "cell_type": "code",
   "execution_count": 38,
   "metadata": {},
   "outputs": [
    {
     "name": "stdout",
     "output_type": "stream",
     "text": [
      "./day_2/scan_data/DAR1053_V2_SURVEY_1_1.PAR\n",
      "./day_2/scan_data/DAR1053_V2_SURVEY_1_1.REC\n"
     ]
    }
   ],
   "source": [
    "drop_32, dbj_32 = content_basename(\"dropbox_Study3_SP32.txt\", \"dbj_SP32.txt\")"
   ]
  },
  {
   "cell_type": "code",
   "execution_count": 39,
   "metadata": {},
   "outputs": [],
   "source": [
    "drop_33, dbj_33 = content_basename(\"dropbox_Study3_SP33.txt\", \"dbj_SP33.txt\")"
   ]
  },
  {
   "cell_type": "code",
   "execution_count": 40,
   "metadata": {},
   "outputs": [
    {
     "name": "stdout",
     "output_type": "stream",
     "text": [
      "./day_1/scan_data/DAR1056_V1_SURVEY_3_1.PAR\n",
      "./day_1/scan_data/DAR1056_V1_SURVEY_3_1.REC\n"
     ]
    }
   ],
   "source": [
    "drop_35, dbj_35 = content_basename(\"dropbox_Study3_SP35.txt\", \"dbj_SP35.txt\")"
   ]
  },
  {
   "cell_type": "code",
   "execution_count": 41,
   "metadata": {},
   "outputs": [],
   "source": [
    "drop_36, dbj_36 = content_basename(\"dropbox_Study3_SP36.txt\", \"dbj_SP36.txt\")"
   ]
  },
  {
   "cell_type": "code",
   "execution_count": 69,
   "metadata": {
    "scrolled": true
   },
   "outputs": [
    {
     "name": "stdout",
     "output_type": "stream",
     "text": [
      "./day_1/scan_data/DAR1058_V1_SURVEY_1_1.PAR\n",
      "./day_1/scan_data/DAR1058_V1_SURVEY_1_1.REC\n"
     ]
    }
   ],
   "source": [
    "drop_37, dbj_37 = content_basename(\"dropbox_Study3_SP37.txt\", \"dbj_SP37.txt\")"
   ]
  },
  {
   "cell_type": "code",
   "execution_count": 43,
   "metadata": {},
   "outputs": [],
   "source": [
    "drop_38, dbj_38 = content_basename(\"dropbox_Study3_SP38.txt\", \"dbj_SP38.txt\")"
   ]
  },
  {
   "cell_type": "code",
   "execution_count": 44,
   "metadata": {},
   "outputs": [],
   "source": [
    "drop_39, dbj_39 = content_basename(\"dropbox_Study3_SP39.txt\", \"dbj_SP39.txt\")"
   ]
  },
  {
   "cell_type": "code",
   "execution_count": 45,
   "metadata": {},
   "outputs": [
    {
     "name": "stdout",
     "output_type": "stream",
     "text": [
      "./day_1/scan_data/DAR_1061_V1_WIP_WIP_SELFORDER_9_SENSE_11_1.PAR\n",
      "./day_1/scan_data/DAR_1061_V1_WIP_WIP_SELFORDER_9_SENSE_11_1.REC\n"
     ]
    }
   ],
   "source": [
    "drop_40, dbj_40 = content_basename(\"dropbox_Study3_SP40.txt\", \"dbj_SP40.txt\")"
   ]
  },
  {
   "cell_type": "code",
   "execution_count": 46,
   "metadata": {},
   "outputs": [],
   "source": [
    "drop_41, dbj_41 = content_basename(\"dropbox_Study3_SP41.txt\", \"dbj_SP41.txt\")"
   ]
  },
  {
   "cell_type": "code",
   "execution_count": 47,
   "metadata": {},
   "outputs": [],
   "source": [
    "drop_42, dbj_42 = content_basename(\"dropbox_Study3_SP42.txt\", \"dbj_SP42.txt\")"
   ]
  },
  {
   "cell_type": "code",
   "execution_count": 48,
   "metadata": {},
   "outputs": [],
   "source": [
    "drop_43, dbj_43 = content_basename(\"dropbox_Study3_SP43.txt\", \"dbj_SP43.txt\")"
   ]
  },
  {
   "cell_type": "code",
   "execution_count": 49,
   "metadata": {},
   "outputs": [],
   "source": [
    "drop_44, dbj_44 = content_basename(\"dropbox_Study3_SP44.txt\", \"dbj_SP44.txt\")"
   ]
  },
  {
   "cell_type": "code",
   "execution_count": 50,
   "metadata": {},
   "outputs": [],
   "source": [
    "drop_45, dbj_45 = content_basename(\"dropbox_Study3_SP45.txt\", \"dbj_SP45.txt\")"
   ]
  },
  {
   "cell_type": "code",
   "execution_count": 51,
   "metadata": {},
   "outputs": [],
   "source": [
    "drop_46, dbj_46 = content_basename(\"dropbox_Study3_SP46.txt\", \"dbj_SP46.txt\")"
   ]
  },
  {
   "cell_type": "code",
   "execution_count": 53,
   "metadata": {},
   "outputs": [],
   "source": [
    "drop_47, dbj_47 = content_basename(\"dropbox_Study3_SP47.txt\", \"dbj_SP47.txt\")"
   ]
  },
  {
   "cell_type": "code",
   "execution_count": 54,
   "metadata": {},
   "outputs": [],
   "source": [
    "drop_48, dbj_48 = content_basename(\"dropbox_Study3_SP48.txt\", \"dbj_SP48.txt\")"
   ]
  },
  {
   "cell_type": "code",
   "execution_count": 55,
   "metadata": {},
   "outputs": [],
   "source": [
    "drop_49, dbj_49 = content_basename(\"dropbox_Study3_SP49.txt\", \"dbj_SP49.txt\")"
   ]
  },
  {
   "cell_type": "code",
   "execution_count": 56,
   "metadata": {},
   "outputs": [
    {
     "name": "stdout",
     "output_type": "stream",
     "text": [
      "./Day_1/scan_data/DAR_1074_SURV_NOPATCH_DEFSCALEPAR_1_1.PAR\n",
      "./Day_1/scan_data/DAR_1074_SURV_NOPATCH_DEFSCALEPAR_1_1.REC\n"
     ]
    }
   ],
   "source": [
    "drop_50, dbj_50 = content_basename(\"dropbox_Study3_SP50.txt\", \"dbj_SP50.txt\")"
   ]
  },
  {
   "cell_type": "code",
   "execution_count": 57,
   "metadata": {},
   "outputs": [],
   "source": [
    "drop_51, dbj_51 = content_basename(\"dropbox_Study3_SP51.txt\", \"dbj_SP51.txt\")"
   ]
  },
  {
   "cell_type": "code",
   "execution_count": 58,
   "metadata": {},
   "outputs": [],
   "source": [
    "drop_52, dbj_52 = content_basename(\"dropbox_Study3_SP52.txt\", \"dbj_SP52.txt\")"
   ]
  },
  {
   "cell_type": "code",
   "execution_count": 59,
   "metadata": {},
   "outputs": [],
   "source": [
    "drop_53, dbj_53 = content_basename(\"dropbox_Study3_SP53.txt\", \"dbj_SP53.txt\")"
   ]
  },
  {
   "cell_type": "code",
   "execution_count": 60,
   "metadata": {},
   "outputs": [],
   "source": [
    "drop_54, dbj_54 = content_basename(\"dropbox_Study3_SP54.txt\", \"dbj_SP54.txt\")"
   ]
  },
  {
   "cell_type": "code",
   "execution_count": 61,
   "metadata": {},
   "outputs": [
    {
     "name": "stdout",
     "output_type": "stream",
     "text": [
      "./Day_1/scan_data/DAR1080_V1_WIP_WIP_SELFORDER_1_SENSE_6_1.PAR\n",
      "./Day_1/scan_data/DAR1080_V1_WIP_WIP_SELFORDER_1_SENSE_6_1.REC\n"
     ]
    }
   ],
   "source": [
    "drop_55, dbj_55 = content_basename(\"dropbox_Study3_SP55.txt\", \"dbj_SP55.txt\")"
   ]
  },
  {
   "cell_type": "code",
   "execution_count": 62,
   "metadata": {},
   "outputs": [],
   "source": [
    "drop_56, dbj_56 = content_basename(\"dropbox_Study3_SP56.txt\", \"dbj_SP56.txt\")"
   ]
  },
  {
   "cell_type": "code",
   "execution_count": 63,
   "metadata": {},
   "outputs": [],
   "source": [
    "drop_57, dbj_57 = content_basename(\"dropbox_Study3_SP57.txt\", \"dbj_SP57.txt\")"
   ]
  },
  {
   "cell_type": "code",
   "execution_count": 64,
   "metadata": {},
   "outputs": [],
   "source": [
    "drop_58, dbj_58 = content_basename(\"dropbox_Study3_SP58.txt\", \"dbj_SP58.txt\")"
   ]
  },
  {
   "cell_type": "code",
   "execution_count": 65,
   "metadata": {},
   "outputs": [
    {
     "name": "stdout",
     "output_type": "stream",
     "text": [
      "./Day_1/scan_data/DAR1084_V1_WIP_WIP_NBACK_3_SENSE_16_1.PAR\n",
      "./Day_1/scan_data/DAR1084_V1_WIP_WIP_NBACK_3_SENSE_16_1.REC\n"
     ]
    }
   ],
   "source": [
    "drop_59, dbj_59 = content_basename(\"dropbox_Study3_SP59.txt\", \"dbj_SP59.txt\")"
   ]
  },
  {
   "cell_type": "code",
   "execution_count": 66,
   "metadata": {},
   "outputs": [],
   "source": [
    "drop_60, dbj_60 = content_basename(\"dropbox_Study3_SP60.txt\", \"dbj_SP60.txt\")"
   ]
  },
  {
   "cell_type": "code",
   "execution_count": 67,
   "metadata": {},
   "outputs": [
    {
     "name": "stdout",
     "output_type": "stream",
     "text": [
      "./Day_1/scan_data/DAR1086_V1_WIP_WIP_SELFORDER_1_SENSE_3_1.PAR\n",
      "./Day_1/scan_data/DAR1086_V1_WIP_WIP_SELFORDER_1_SENSE_3_1.REC\n"
     ]
    }
   ],
   "source": [
    "drop_61, dbj_61 = content_basename(\"dropbox_Study3_SP61.txt\", \"dbj_SP61.txt\")"
   ]
  },
  {
   "cell_type": "code",
   "execution_count": 68,
   "metadata": {},
   "outputs": [],
   "source": [
    "drop63, dbj_63 = content_basename(\"dropbox_Study3_SP63.txt\", \"dbj_SP63.txt\")"
   ]
  },
  {
   "cell_type": "code",
   "execution_count": null,
   "metadata": {},
   "outputs": [],
   "source": []
  }
 ],
 "metadata": {
  "kernelspec": {
   "display_name": "Python 3",
   "language": "python",
   "name": "python3"
  },
  "language_info": {
   "codemirror_mode": {
    "name": "ipython",
    "version": 3
   },
   "file_extension": ".py",
   "mimetype": "text/x-python",
   "name": "python",
   "nbconvert_exporter": "python",
   "pygments_lexer": "ipython3",
   "version": "3.5.4"
  }
 },
 "nbformat": 4,
 "nbformat_minor": 2
}
