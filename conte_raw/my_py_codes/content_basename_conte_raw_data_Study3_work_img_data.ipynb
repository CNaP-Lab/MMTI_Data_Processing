{
 "cells": [
  {
   "cell_type": "code",
   "execution_count": 16,
   "metadata": {},
   "outputs": [],
   "source": [
    "import numpy as np\n",
    "import os\n",
    "from os.path import basename"
   ]
  },
  {
   "cell_type": "markdown",
   "metadata": {},
   "source": [
    "## Find the contents in the two files"
   ]
  },
  {
   "cell_type": "code",
   "execution_count": 11,
   "metadata": {},
   "outputs": [],
   "source": [
    "def content(f1, f2):\n",
    "    with open(f1) as f:\n",
    "        f1_data = f.readlines()\n",
    "    f1_data = [x.strip() for x in f1_data] \n",
    "    with open(f2) as f:\n",
    "        f2_data = f.readlines()\n",
    "    f2_data = [x.strip() for x in f2_data] \n",
    "    return f1_data, f2_data"
   ]
  },
  {
   "cell_type": "code",
   "execution_count": 13,
   "metadata": {},
   "outputs": [],
   "source": [
    "f1, f2 = content(\"t1.txt\", \"t2.txt\")"
   ]
  },
  {
   "cell_type": "code",
   "execution_count": 14,
   "metadata": {},
   "outputs": [
    {
     "data": {
      "text/plain": [
       "['./DAR-1020-BASELINE_SPGR_SENSE_26_1.PAR',\n",
       " './DAR-1020-BASELINE_SPGR_SENSE_26_1.REC',\n",
       " './DAR-1020-BASELINE_SPGR_SENSE_27_1.PAR',\n",
       " './DAR-1020-BASELINE_SPGR_SENSE_27_1.REC',\n",
       " '']"
      ]
     },
     "execution_count": 14,
     "metadata": {},
     "output_type": "execute_result"
    }
   ],
   "source": [
    "f1"
   ]
  },
  {
   "cell_type": "code",
   "execution_count": 15,
   "metadata": {},
   "outputs": [
    {
     "data": {
      "text/plain": [
       "['./Day 1/SCAN data/DAR-1020-BASELINE_WIP_NBACK_6_SENSE_23_1.PAR',\n",
       " './Day 1/SCAN data/DAR-1020-BASELINE_SPGR_SENSE_26_1.PAR',\n",
       " './Day 1/SCAN data/DAR-1020-BASELINE_WIP_NBACK_6_SENSE_23_1.REC',\n",
       " './Day 1/SCAN data/DAR-1020-BASELINE_SPGR_SENSE_26_1.REC',\n",
       " './Day 1/SCAN data/DAR-1020-BASELINE_WIP_NBACK_7_SENSE_24_1.PAR',\n",
       " './Day 1/SCAN data/DAR-1020-BASELINE_SPGR_SENSE_27_1.PAR',\n",
       " './Day 1/SCAN data/DAR-1020-BASELINE_WIP_NBACK_7_SENSE_24_1.REC',\n",
       " '']"
      ]
     },
     "execution_count": 15,
     "metadata": {},
     "output_type": "execute_result"
    }
   ],
   "source": [
    "f2"
   ]
  },
  {
   "cell_type": "markdown",
   "metadata": {},
   "source": [
    "## Get the basename of the pathname and compare, to check whther they are in any of the folders"
   ]
  },
  {
   "cell_type": "code",
   "execution_count": 42,
   "metadata": {},
   "outputs": [],
   "source": [
    "def content_basename(f1, f2):\n",
    "    \"\"\"\n",
    "    This function will take two files(which has the pathname of the dir contents)\n",
    "    and read line by line and store those into separate\n",
    "    two lists. Also remove whitespace characters like `\\n` at the end of each line.\n",
    "    Then find the basename of the pathname and store in anotehr two lists\n",
    "    Finally check whether the file (basename) in the fist dir is presnet in the\n",
    "    second dir. Print out the pathnames not in the first dir.\n",
    "    \"\"\"\n",
    "    with open(f1) as f:\n",
    "        f1_data = f.readlines()\n",
    "    f1_data = [x.strip() for x in f1_data] \n",
    "    with open(f2) as f:\n",
    "        f2_data = f.readlines()\n",
    "    f2_data = [x.strip() for x in f2_data] \n",
    "    \n",
    "    f1_base = []\n",
    "    f2_base = []\n",
    "    \n",
    "    for i in f1_data:\n",
    "        f1_base.append(basename(i))\n",
    "        \n",
    "    for i in f2_data:\n",
    "        f2_base.append(basename(i))\n",
    "        \n",
    "    for i, j in enumerate(f1_base):\n",
    "        if j not in f2_base:\n",
    "            print (f1_data[i])\n",
    "    \n",
    "    return f1_base, f2_base"
   ]
  },
  {
   "cell_type": "code",
   "execution_count": 104,
   "metadata": {},
   "outputs": [
    {
     "name": "stdout",
     "output_type": "stream",
     "text": [
      "/mnt/hcp01/codes/my_bash_codes\n"
     ]
    }
   ],
   "source": [
    "cd /mnt/hcp01/codes/my_bash_codes"
   ]
  },
  {
   "cell_type": "markdown",
   "metadata": {},
   "source": [
    "### checking the function using example text files in \\codes\\my_bash_prog"
   ]
  },
  {
   "cell_type": "code",
   "execution_count": 105,
   "metadata": {},
   "outputs": [
    {
     "name": "stdout",
     "output_type": "stream",
     "text": [
      "./Day 1/SCAN data/DAR-1020-BASELINE_WIP_NBACK_6_SENSE_23_1.PAR\n",
      "./Day 1/SCAN data/DAR-1020-BASELINE_WIP_NBACK_6_SENSE_23_1.REC\n",
      "./Day 1/SCAN data/DAR-1020-BASELINE_WIP_NBACK_7_SENSE_24_1.PAR\n",
      "./Day 1/SCAN data/DAR-1020-BASELINE_WIP_NBACK_7_SENSE_24_1.REC\n"
     ]
    }
   ],
   "source": [
    "f1_base, f2_base = content_basename(\"t2.txt\", \"t1.txt\")"
   ]
  },
  {
   "cell_type": "code",
   "execution_count": 27,
   "metadata": {},
   "outputs": [
    {
     "data": {
      "text/plain": [
       "['DAR-1020-BASELINE_WIP_NBACK_6_SENSE_23_1.PAR',\n",
       " 'DAR-1020-BASELINE_SPGR_SENSE_26_1.PAR',\n",
       " 'DAR-1020-BASELINE_WIP_NBACK_6_SENSE_23_1.REC',\n",
       " 'DAR-1020-BASELINE_SPGR_SENSE_26_1.REC',\n",
       " 'DAR-1020-BASELINE_WIP_NBACK_7_SENSE_24_1.PAR',\n",
       " 'DAR-1020-BASELINE_SPGR_SENSE_27_1.PAR',\n",
       " 'DAR-1020-BASELINE_WIP_NBACK_7_SENSE_24_1.REC',\n",
       " '']"
      ]
     },
     "execution_count": 27,
     "metadata": {},
     "output_type": "execute_result"
    }
   ],
   "source": [
    "f1_base"
   ]
  },
  {
   "cell_type": "code",
   "execution_count": 28,
   "metadata": {},
   "outputs": [
    {
     "data": {
      "text/plain": [
       "['DAR-1020-BASELINE_SPGR_SENSE_26_1.PAR',\n",
       " 'DAR-1020-BASELINE_SPGR_SENSE_26_1.REC',\n",
       " 'DAR-1020-BASELINE_SPGR_SENSE_27_1.PAR',\n",
       " 'DAR-1020-BASELINE_SPGR_SENSE_27_1.REC',\n",
       " '']"
      ]
     },
     "execution_count": 28,
     "metadata": {},
     "output_type": "execute_result"
    }
   ],
   "source": [
    "f2_base"
   ]
  },
  {
   "cell_type": "code",
   "execution_count": 29,
   "metadata": {},
   "outputs": [
    {
     "name": "stdout",
     "output_type": "stream",
     "text": [
      "/mnt/hcp01/codes\n"
     ]
    }
   ],
   "source": [
    "cd .."
   ]
  },
  {
   "cell_type": "markdown",
   "metadata": {},
   "source": [
    "## Cd to the outputs/conte_raw_S3_pathnames/"
   ]
  },
  {
   "cell_type": "code",
   "execution_count": 30,
   "metadata": {},
   "outputs": [
    {
     "name": "stdout",
     "output_type": "stream",
     "text": [
      "/mnt/hcp01/codes/outputs/conte_raw_S3_pathnames\n"
     ]
    }
   ],
   "source": [
    "cd outputs/conte_raw_S3_pathnames/"
   ]
  },
  {
   "cell_type": "markdown",
   "metadata": {},
   "source": [
    "## First Compare the Study3 work and imaging_data folders. In Study3 SP34 and SP62 is missing."
   ]
  },
  {
   "cell_type": "code",
   "execution_count": 31,
   "metadata": {},
   "outputs": [],
   "source": [
    "work_SP01, img_data_SP01=content_basename(\"work_Study3_SP01.txt\", \"img_data_Study3_SP01.txt\")"
   ]
  },
  {
   "cell_type": "code",
   "execution_count": 32,
   "metadata": {},
   "outputs": [],
   "source": [
    "work_SP02, img_data_SP02=content_basename(\"work_Study3_SP02.txt\", \"img_data_Study3_SP02.txt\")"
   ]
  },
  {
   "cell_type": "code",
   "execution_count": 43,
   "metadata": {},
   "outputs": [
    {
     "name": "stdout",
     "output_type": "stream",
     "text": [
      "./SP03_WIP_WIP_SELFORDER_3_SENSE_5_1.PAR\n",
      "./SP03_WIP_WIP_SELFORDER_3_SENSE_5_1.REC\n",
      "./SP03_WIP_WIP_SELFORDER_3_SENSE_6_1.PAR\n",
      "./SP03_WIP_WIP_SELFORDER_3_SENSE_6_1.REC\n"
     ]
    }
   ],
   "source": [
    "work_SP03, im_data_SP03=content_basename(\"work_Study3_SP03.txt\", \"img_data_Study3_SP03.txt\")"
   ]
  },
  {
   "cell_type": "code",
   "execution_count": 35,
   "metadata": {},
   "outputs": [],
   "source": [
    "work_SP04, img_data_SP04=content_basename(\"work_Study3_SP04.txt\", \"img_data_Study3_SP04.txt\")"
   ]
  },
  {
   "cell_type": "code",
   "execution_count": 36,
   "metadata": {},
   "outputs": [],
   "source": [
    "work_SP05, img_data_SP05=content_basename(\"work_Study3_SP05.txt\", \"img_data_Study3_SP05.txt\")"
   ]
  },
  {
   "cell_type": "code",
   "execution_count": 44,
   "metadata": {},
   "outputs": [
    {
     "name": "stdout",
     "output_type": "stream",
     "text": [
      "./DAR1025_FRET76_V1_SPGR_SENSE_18_12015     3    12    18    35    18.PAR\n",
      "./DAR1025_FRET76_V1_SPGR_SENSE_18_12015     3    12    18    35    18.REC\n",
      "./DAR1025_FRET76_V1_WIP_WIP_SELFORDER_5_SENSE_7_12015     3    12    15    19    17.REC\n",
      "./DAR1025_FRET76_V1_WIP_WIP_SELFORDER_1_SENSE_3_12015     3    12    15    19    26.PAR\n",
      "./DAR1025_FRET76_V1_WIP_WIP_SELFORDER_5_SENSE_7_12015     3    12    15    19    17.PAR\n",
      "./DAR1025_FRET76_V1_WIP_WIP_SELFORDER_1_SENSE_3_12015     3    12    15    19    26.REC\n",
      "./DAR1025_FRET76_V1_WIP_WIP_SELFORDER_2_SENSE_4_12015     3    12    15    19    49.PAR\n",
      "./DAR1025_FRET76_V1_WIP_WIP_SELFORDER_2_SENSE_4_12015     3    12    15    19    49.REC\n",
      "./DAR1025_FRET76_V1_WIP_WIP_SELFORDER_6_SENSE_8_12015     3    12    15    19    40.PAR\n",
      "./DAR1025_FRET76_V1_WIP_WIP_SELFORDER_3_SENSE_5_12015     3    12    15    19    21.PAR\n",
      "./DAR1025_FRET76_V1_WIP_WIP_SELFORDER_6_SENSE_8_12015     3    12    15    19    40.REC\n",
      "./DAR1025_FRET76_V1_WIP_WIP_SELFORDER_3_SENSE_5_12015     3    12    15    19    21.REC\n",
      "./DAR1025_FRET76_V1_WIP_WIP_SELFORDER_4_SENSE_6_12015     3    12    15    19    35.PAR\n",
      "./DAR1025_FRET76_V1_WIP_WIP_SELFORDER_7_SENSE_9_12015     3    12    15    19    45.REC\n",
      "./DAR1025_FRET76_V1_WIP_WIP_SELFORDER_4_SENSE_6_12015     3    12    15    19    35.REC\n",
      "./DAR1025_FRET76_V1_WIP_WIP_SELFORDER_7_SENSE_9_12015     3    12    15    19    45.PAR\n",
      "./DAR1028_WIP_WIP_SELFORDER_9_SENSE_16_12015     3    12    15    21    13.REC\n",
      "./DAR1025_FRET76_V1_WIP_WIP_SELFORDER_8_SENSE_10_12015     3    12    15    19    31.PAR\n",
      "./DAR1025_FRET76_V1_WIP_WIP_SELFORDER_8_SENSE_10_12015     3    12    15    19    31.REC\n",
      "./DAR1025_FRET76_V1_WIP_WIP_SELFORDER_9_SENSE_11_12015     3    12    15    19    12.PAR\n",
      "./DAR1025_FRET76_V1_WIP_WIP_SELFORDER_9_SENSE_11_12015     3    12    15    19    12.REC\n",
      "./DAR1028_WIP_WIP_SELFORDER_1_SENSE_3_12015     3    12    15    21    23.PAR\n",
      "./DAR1028_WIP_WIP_SELFORDER_1_SENSE_3_12015     3    12    15    21    23.REC\n",
      "./DAR1028_WIP_WIP_SELFORDER_2_SENSE_4_12015     3    12    15    20    36.PAR\n",
      "./DAR1028_WIP_WIP_SELFORDER_2_SENSE_4_12015     3    12    15    20    36.REC\n",
      "./DAR1028_WIP_WIP_SELFORDER_3_SENSE_7_12015     3    12    15    21    18.PAR\n",
      "./DAR1028_WIP_WIP_SELFORDER_3_SENSE_7_12015     3    12    15    21    18.REC\n",
      "./DAR1028_WIP_WIP_SELFORDER_4_SENSE_8_12015     3    12    15    20    55.PAR\n",
      "./DAR1028_WIP_WIP_SELFORDER_4_SENSE_8_12015     3    12    15    20    55.REC\n",
      "./DAR1028_WIP_WIP_SELFORDER_5_SENSE_9_12015     3    12    15    20    59.PAR\n",
      "./DAR1028_WIP_WIP_SELFORDER_5_SENSE_9_12015     3    12    15    20    59.REC\n",
      "./DAR1028_WIP_WIP_SELFORDER_6_SENSE_13_12015     3    12    15    21    55.PAR\n",
      "./DAR1028_WIP_WIP_SELFORDER_6_SENSE_13_12015     3    12    15    21    55.REC\n",
      "./DAR1028_WIP_WIP_SELFORDER_7_SENSE_14_12015     3    12    15    21    46.PAR\n",
      "./DAR1028_WIP_WIP_SELFORDER_7_SENSE_14_12015     3    12    15    21    46.REC\n",
      "./DAR1028_WIP_WIP_SELFORDER_8_SENSE_15_12015     3    12    15    21     4.PAR\n",
      "./DAR1028_WIP_WIP_SELFORDER_8_SENSE_15_12015     3    12    15    21     4.REC\n",
      "./DAR1028_WIP_WIP_SELFORDER_9_SENSE_16_12015     3    12    15    21    13.PAR\n"
     ]
    }
   ],
   "source": [
    "work_SP06, img_data_SP06=content_basename(\"work_Study3_SP06.txt\", \"img_data_Study3_SP06.txt\")"
   ]
  },
  {
   "cell_type": "code",
   "execution_count": 45,
   "metadata": {},
   "outputs": [],
   "source": [
    "work_SP07, img_data_SP07 = content_basename(\"work_Study3_SP07.txt\", \"img_data_Study3_SP07.txt\")"
   ]
  },
  {
   "cell_type": "code",
   "execution_count": 46,
   "metadata": {},
   "outputs": [],
   "source": [
    "work_SP08, img_data_SP08 = content_basename(\"work_Study3_SP08.txt\", \"img_data_Study3_SP08.txt\")"
   ]
  },
  {
   "cell_type": "code",
   "execution_count": 47,
   "metadata": {},
   "outputs": [],
   "source": [
    "work_SP09, img_data_SP09 = content_basename(\"work_Study3_SP09.txt\", \"img_data_Study3_SP09.txt\")"
   ]
  },
  {
   "cell_type": "code",
   "execution_count": 48,
   "metadata": {},
   "outputs": [],
   "source": [
    "work_SP10, img_data_SP10 = content_basename(\"work_Study3_SP10.txt\", \"img_data_Study3_SP10.txt\")"
   ]
  },
  {
   "cell_type": "code",
   "execution_count": 49,
   "metadata": {},
   "outputs": [],
   "source": [
    "work_SP11, img_data_SP11 = content_basename(\"work_Study3_SP11.txt\", \"img_data_Study3_SP11.txt\")"
   ]
  },
  {
   "cell_type": "code",
   "execution_count": 50,
   "metadata": {},
   "outputs": [],
   "source": [
    "work_SP12, img_data_SP12 = content_basename(\"work_Study3_SP12.txt\", \"img_data_Study3_SP12.txt\")"
   ]
  },
  {
   "cell_type": "code",
   "execution_count": 51,
   "metadata": {},
   "outputs": [],
   "source": [
    "work_SP13, img_data_SP13 = content_basename(\"work_Study3_SP13.txt\", \"img_data_Study3_SP13.txt\")"
   ]
  },
  {
   "cell_type": "code",
   "execution_count": 53,
   "metadata": {},
   "outputs": [],
   "source": [
    "work_SP14, img_data_SP14 = content_basename(\"work_Study3_SP14.txt\", \"img_data_Study3_SP14.txt\")"
   ]
  },
  {
   "cell_type": "code",
   "execution_count": 54,
   "metadata": {},
   "outputs": [],
   "source": [
    "work_SP15, img_data_SP15 = content_basename(\"work_Study3_SP15.txt\", \"img_data_Study3_SP15.txt\")"
   ]
  },
  {
   "cell_type": "code",
   "execution_count": 55,
   "metadata": {},
   "outputs": [],
   "source": [
    "work_SP16, img_data_SP16 = content_basename(\"work_Study3_SP16.txt\", \"img_data_Study3_SP16.txt\")"
   ]
  },
  {
   "cell_type": "code",
   "execution_count": 56,
   "metadata": {},
   "outputs": [],
   "source": [
    "work_SP17, img_data_SP17 = content_basename(\"work_Study3_SP17.txt\", \"img_data_Study3_SP17.txt\")"
   ]
  },
  {
   "cell_type": "code",
   "execution_count": 57,
   "metadata": {},
   "outputs": [],
   "source": [
    "work_SP18, img_data_SP18 = content_basename(\"work_Study3_SP18.txt\", \"img_data_Study3_SP18.txt\")"
   ]
  },
  {
   "cell_type": "code",
   "execution_count": 58,
   "metadata": {},
   "outputs": [],
   "source": [
    "work_SP19, img_data_SP19 = content_basename(\"work_Study3_SP19.txt\", \"img_data_Study3_SP19.txt\")"
   ]
  },
  {
   "cell_type": "code",
   "execution_count": 59,
   "metadata": {},
   "outputs": [],
   "source": [
    "work_SP20, imag_data_Sp20 = content_basename(\"work_Study3_SP20.txt\", \"img_data_Study3_SP20.txt\")"
   ]
  },
  {
   "cell_type": "code",
   "execution_count": 60,
   "metadata": {},
   "outputs": [],
   "source": [
    "work_SP21, img_data_SP21 = content_basename(\"work_Study3_SP21.txt\", \"img_data_Study3_SP21.txt\")"
   ]
  },
  {
   "cell_type": "code",
   "execution_count": 61,
   "metadata": {},
   "outputs": [],
   "source": [
    "work_SP22, img_data_SP22 = content_basename(\"work_Study3_SP22.txt\", \"img_data_Study3_SP22.txt\")"
   ]
  },
  {
   "cell_type": "code",
   "execution_count": 62,
   "metadata": {},
   "outputs": [],
   "source": [
    "work_SP23, img_data_SP23 = content_basename(\"work_Study3_SP23.txt\", \"img_data_Study3_SP23.txt\")"
   ]
  },
  {
   "cell_type": "code",
   "execution_count": 63,
   "metadata": {},
   "outputs": [],
   "source": [
    "work_SP24, img_data_SP24 = content_basename(\"work_Study3_SP24.txt\", \"img_data_Study3_SP24.txt\")"
   ]
  },
  {
   "cell_type": "code",
   "execution_count": 64,
   "metadata": {},
   "outputs": [],
   "source": [
    "work_SP25, img_data_SP25 = content_basename(\"work_Study3_SP25.txt\", \"img_data_Study3_SP25.txt\")"
   ]
  },
  {
   "cell_type": "code",
   "execution_count": 65,
   "metadata": {},
   "outputs": [],
   "source": [
    "work_SP26, img_data_SP26 = content_basename(\"work_Study3_SP26.txt\", \"img_data_Study3_SP26.txt\")"
   ]
  },
  {
   "cell_type": "code",
   "execution_count": 66,
   "metadata": {},
   "outputs": [],
   "source": [
    "work_SP27, img_data_SP27 = content_basename(\"work_Study3_SP27.txt\", \"img_data_Study3_SP27.txt\")"
   ]
  },
  {
   "cell_type": "code",
   "execution_count": 67,
   "metadata": {},
   "outputs": [],
   "source": [
    "work_SP28, img_data_SP28 = content_basename(\"work_Study3_SP28.txt\", \"img_data_Study3_SP28.txt\")"
   ]
  },
  {
   "cell_type": "code",
   "execution_count": 68,
   "metadata": {},
   "outputs": [],
   "source": [
    "work_SP29, img_data_SP29 = content_basename(\"work_Study3_SP29.txt\", \"img_data_Study3_SP29.txt\")"
   ]
  },
  {
   "cell_type": "code",
   "execution_count": 69,
   "metadata": {},
   "outputs": [],
   "source": [
    "work_SP30, img_data_SP30 = content_basename(\"work_Study3_SP30.txt\", \"img_data_Study3_SP30.txt\")"
   ]
  },
  {
   "cell_type": "code",
   "execution_count": 70,
   "metadata": {},
   "outputs": [],
   "source": [
    "work_SP31, img_data_SP31 = content_basename(\"work_Study3_SP31.txt\", \"img_data_Study3_SP31.txt\")"
   ]
  },
  {
   "cell_type": "code",
   "execution_count": 71,
   "metadata": {},
   "outputs": [],
   "source": [
    "work_SP32, img_data_SP32 = content_basename(\"work_Study3_SP32.txt\", \"img_data_Study3_SP32.txt\")"
   ]
  },
  {
   "cell_type": "code",
   "execution_count": 72,
   "metadata": {},
   "outputs": [],
   "source": [
    "work_SP33, img_data_SP33 = content_basename(\"work_Study3_SP33.txt\", \"img_data_Study3_SP33.txt\")"
   ]
  },
  {
   "cell_type": "code",
   "execution_count": 73,
   "metadata": {},
   "outputs": [],
   "source": [
    "work_SP35, img_data_SP35 = content_basename(\"work_Study3_SP35.txt\", \"img_data_Study3_SP35.txt\")"
   ]
  },
  {
   "cell_type": "code",
   "execution_count": 74,
   "metadata": {},
   "outputs": [],
   "source": [
    "work_SP36, img_data_SP36 = content_basename(\"work_Study3_SP36.txt\", \"img_data_Study3_SP36.txt\")"
   ]
  },
  {
   "cell_type": "code",
   "execution_count": 75,
   "metadata": {},
   "outputs": [],
   "source": [
    "work_SP37, img_data_SP37 = content_basename(\"work_Study3_SP37.txt\", \"img_data_Study3_SP37.txt\")"
   ]
  },
  {
   "cell_type": "code",
   "execution_count": 76,
   "metadata": {},
   "outputs": [],
   "source": [
    "work_SP38, img_data_SP38 = content_basename(\"work_Study3_SP38.txt\", \"img_data_Study3_SP38.txt\")"
   ]
  },
  {
   "cell_type": "code",
   "execution_count": 77,
   "metadata": {},
   "outputs": [],
   "source": [
    "work_SP39, img_data_SP39 = content_basename(\"work_Study3_SP39.txt\", \"img_data_Study3_SP39.txt\")"
   ]
  },
  {
   "cell_type": "code",
   "execution_count": 79,
   "metadata": {},
   "outputs": [],
   "source": [
    "work_SP40, img_data_SP40 = content_basename(\"work_Study3_SP40.txt\", \"img_data_Study3_SP40.txt\")"
   ]
  },
  {
   "cell_type": "code",
   "execution_count": 80,
   "metadata": {},
   "outputs": [],
   "source": [
    "work_SP41, img_data_SP41 = content_basename(\"work_Study3_SP41.txt\", \"img_data_Study3_SP41.txt\")"
   ]
  },
  {
   "cell_type": "code",
   "execution_count": 81,
   "metadata": {},
   "outputs": [],
   "source": [
    "work_SP42, img_data_SP42 = content_basename(\"work_Study3_SP42.txt\", \"img_data_Study3_SP42.txt\")"
   ]
  },
  {
   "cell_type": "code",
   "execution_count": 82,
   "metadata": {},
   "outputs": [],
   "source": [
    "work_SP43, img_data_SP43 = content_basename(\"work_Study3_SP43.txt\", \"img_data_Study3_SP43.txt\")"
   ]
  },
  {
   "cell_type": "code",
   "execution_count": 83,
   "metadata": {},
   "outputs": [],
   "source": [
    "work_SP44, img_data_SP44 = content_basename(\"work_Study3_SP44.txt\", \"img_data_Study3_SP44.txt\")"
   ]
  },
  {
   "cell_type": "code",
   "execution_count": 84,
   "metadata": {},
   "outputs": [],
   "source": [
    "work_SP45, img_data_SP45 = content_basename(\"work_Study3_SP45.txt\", \"img_data_Study3_SP45.txt\")"
   ]
  },
  {
   "cell_type": "code",
   "execution_count": 85,
   "metadata": {},
   "outputs": [],
   "source": [
    "work_SP46, img_data_SP46 = content_basename(\"work_Study3_SP46.txt\", \"img_data_Study3_SP46.txt\")"
   ]
  },
  {
   "cell_type": "code",
   "execution_count": 86,
   "metadata": {},
   "outputs": [],
   "source": [
    "work_SP47, img_data_SP47 = content_basename(\"work_Study3_SP47.txt\", \"img_data_Study3_SP47.txt\")"
   ]
  },
  {
   "cell_type": "code",
   "execution_count": 87,
   "metadata": {},
   "outputs": [],
   "source": [
    "work_SP48, img_data_SP48 = content_basename(\"work_Study3_SP48.txt\", \"img_data_Study3_SP48.txt\")"
   ]
  },
  {
   "cell_type": "code",
   "execution_count": 88,
   "metadata": {},
   "outputs": [],
   "source": [
    "work_SP49, img_data_SP49 = content_basename(\"work_Study3_SP49.txt\", \"img_data_Study3_SP49.txt\")"
   ]
  },
  {
   "cell_type": "code",
   "execution_count": 89,
   "metadata": {},
   "outputs": [],
   "source": [
    "work_SP50, img_data_SP50 = content_basename(\"work_Study3_SP50.txt\", \"img_data_Study3_SP50.txt\")"
   ]
  },
  {
   "cell_type": "code",
   "execution_count": 90,
   "metadata": {},
   "outputs": [],
   "source": [
    "work_SP51, img_data_SP51 = content_basename(\"work_Study3_SP51.txt\", \"img_data_Study3_SP51.txt\")"
   ]
  },
  {
   "cell_type": "code",
   "execution_count": 91,
   "metadata": {},
   "outputs": [],
   "source": [
    "work_SP52, img_data_SP52 = content_basename(\"work_Study3_SP52.txt\", \"img_data_Study3_SP52.txt\")"
   ]
  },
  {
   "cell_type": "code",
   "execution_count": 92,
   "metadata": {},
   "outputs": [],
   "source": [
    "work_SP53, img_data_SP53 = content_basename(\"work_Study3_SP53.txt\", \"img_data_Study3_SP53.txt\")"
   ]
  },
  {
   "cell_type": "code",
   "execution_count": 93,
   "metadata": {},
   "outputs": [],
   "source": [
    "work_SP54, img_data_SP54 = content_basename(\"work_Study3_SP54.txt\", \"img_data_Study3_SP54.txt\")"
   ]
  },
  {
   "cell_type": "code",
   "execution_count": 94,
   "metadata": {},
   "outputs": [],
   "source": [
    "work_SP55, img_data_SP55 = content_basename(\"work_Study3_SP55.txt\", \"img_data_Study3_SP55.txt\")"
   ]
  },
  {
   "cell_type": "code",
   "execution_count": 95,
   "metadata": {},
   "outputs": [
    {
     "name": "stdout",
     "output_type": "stream",
     "text": [
      "./DAR1081_V1_WIP_WIP_SELFORDER_1_SENSE_3_12015     3    12    15    37    39.PAR\n",
      "./DAR1081_V1_WIP_WIP_SELFORDER_1_SENSE_3_12015     3    12    15    37    39.REC\n",
      "./DAR1081_V1_WIP_WIP_SELFORDER_6_SENSE_8_12015     3    12    15    37    49.PAR\n",
      "./DAR1081_V1_WIP_WIP_SELFORDER_2_SENSE_4_12015     3    12    15    38     7.PAR\n",
      "./DAR1081_V1_WIP_WIP_SELFORDER_6_SENSE_8_12015     3    12    15    37    49.REC\n",
      "./DAR1081_V1_WIP_WIP_SELFORDER_2_SENSE_4_12015     3    12    15    38     7.REC\n",
      "./DAR1081_V1_WIP_WIP_SELFORDER_3_SENSE_5_12015     3    12    15    37    58.PAR\n",
      "./DAR1081_V1_WIP_WIP_SELFORDER_3_SENSE_5_12015     3    12    15    37    58.REC\n",
      "./DAR1081_V1_WIP_WIP_SELFORDER_7_SENSE_9_12015     3    12    15    37    53.PAR\n",
      "./DAR1081_V1_WIP_WIP_SELFORDER_4_SENSE_6_12015     3    12    15    37    44.PAR\n",
      "./DAR1081_V1_WIP_WIP_SELFORDER_4_SENSE_6_12015     3    12    15    37    44.REC\n",
      "./DAR1081_V1_WIP_WIP_SELFORDER_7_SENSE_9_12015     3    12    15    37    53.REC\n",
      "./DAR1081_V1_WIP_WIP_SELFORDER_5_SENSE_7_12015     3    12    15    37    30.PAR\n",
      "./DAR1081_V1_WIP_WIP_SELFORDER_5_SENSE_7_12015     3    12    15    37    30.REC\n",
      "./DAR1081_V1_WIP_WIP_SELFORDER_8_SENSE_10_12015     3    12    15    37    35.PAR\n",
      "./DAR1081_V1_WIP_WIP_SELFORDER_8_SENSE_10_12015     3    12    15    37    35.REC\n",
      "./DAR1081_V1_WIP_WIP_SELFORDER_9_SENSE_11_12015     3    12    15    38     3.PAR\n",
      "./DAR1081_V1_WIP_WIP_SELFORDER_9_SENSE_11_12015     3    12    15    38     3.REC\n"
     ]
    }
   ],
   "source": [
    "work_SP56, img_data_SP56 = content_basename(\"work_Study3_SP56.txt\", \"img_data_Study3_SP56.txt\")"
   ]
  },
  {
   "cell_type": "code",
   "execution_count": 96,
   "metadata": {},
   "outputs": [],
   "source": [
    "work_SP57, img_data_SP57 = content_basename(\"work_Study3_SP57.txt\", \"img_data_Study3_SP57.txt\")"
   ]
  },
  {
   "cell_type": "code",
   "execution_count": 97,
   "metadata": {},
   "outputs": [],
   "source": [
    "work_SP58, img_data_SP58 = content_basename(\"work_Study3_SP58.txt\", \"img_data_Study3_SP58.txt\")"
   ]
  },
  {
   "cell_type": "code",
   "execution_count": 98,
   "metadata": {},
   "outputs": [],
   "source": [
    "work_SP59, img_data_SP59 = content_basename(\"work_Study3_SP59.txt\", \"img_data_Study3_SP59.txt\")"
   ]
  },
  {
   "cell_type": "code",
   "execution_count": 99,
   "metadata": {},
   "outputs": [],
   "source": [
    "work_SP60, img_data_SP60 = content_basename(\"work_Study3_SP60.txt\", \"img_data_Study3_SP60.txt\")"
   ]
  },
  {
   "cell_type": "code",
   "execution_count": 100,
   "metadata": {},
   "outputs": [],
   "source": [
    "work_SP61, img_data_SP61 = content_basename(\"work_Study3_SP61.txt\", \"img_data_Study3_SP61.txt\")"
   ]
  },
  {
   "cell_type": "code",
   "execution_count": 101,
   "metadata": {},
   "outputs": [],
   "source": [
    "work_SP63, img_data_SP63 = content_basename(\"work_Study3_SP63.txt\", \"img_data_Study3_SP63.txt\")"
   ]
  },
  {
   "cell_type": "code",
   "execution_count": 102,
   "metadata": {},
   "outputs": [],
   "source": [
    "work_or, img_data_or = content_basename(\"work_Study3_orpaned.txt\", \"img_data_study3_orpaned.txt\")"
   ]
  },
  {
   "cell_type": "code",
   "execution_count": null,
   "metadata": {},
   "outputs": [],
   "source": []
  }
 ],
 "metadata": {
  "kernelspec": {
   "display_name": "Python 3",
   "language": "python",
   "name": "python3"
  },
  "language_info": {
   "codemirror_mode": {
    "name": "ipython",
    "version": 3
   },
   "file_extension": ".py",
   "mimetype": "text/x-python",
   "name": "python",
   "nbconvert_exporter": "python",
   "pygments_lexer": "ipython3",
   "version": "3.5.4"
  }
 },
 "nbformat": 4,
 "nbformat_minor": 2
}
