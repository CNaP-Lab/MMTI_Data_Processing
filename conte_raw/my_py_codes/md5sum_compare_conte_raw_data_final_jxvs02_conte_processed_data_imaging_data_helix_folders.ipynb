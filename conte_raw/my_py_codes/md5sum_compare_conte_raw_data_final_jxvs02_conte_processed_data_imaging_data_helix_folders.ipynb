{
 "cells": [
  {
   "cell_type": "code",
   "execution_count": 3,
   "metadata": {
    "collapsed": true
   },
   "outputs": [],
   "source": [
    "def content_basename(f1, f2):\n",
    "    \"\"\"\n",
    "    This function will take two files(which has the pathname of the dir contents)\n",
    "    and read line by line and store those into separate\n",
    "    two lists. Also remove whitespace characters like `\\n` at the end of each line.\n",
    "    Then find the basename of the pathname and store in anotehr two lists\n",
    "    Finally check whether the file (basename) in the fist dir is presnet in the\n",
    "    second dir. Print out the pathnames not in the first dir.\n",
    "    \"\"\"\n",
    "    with open(f1) as f:\n",
    "        f1_data = f.readlines()\n",
    "    f1_data = [x.strip() for x in f1_data] \n",
    "    with open(f2) as f:\n",
    "        f2_data = f.readlines()\n",
    "    f2_data = [x.strip() for x in f2_data] \n",
    "    \n",
    "    f1_base = []\n",
    "    f2_base = []\n",
    "    \n",
    "    for i in f1_data:\n",
    "        f1_base.append(basename(i))\n",
    "        \n",
    "    for i in f2_data:\n",
    "        f2_base.append(basename(i))\n",
    "        \n",
    "    for i, j in enumerate(f1_base):\n",
    "        if j not in f2_base:\n",
    "            print (f1_data[i])\n",
    "    \n",
    "    return f1_base, f2_base"
   ]
  },
  {
   "cell_type": "code",
   "execution_count": 10,
   "metadata": {
    "collapsed": true
   },
   "outputs": [],
   "source": [
    "import numpy as np\n",
    "import os\n",
    "from os.path import basename\n",
    "import csv"
   ]
  },
  {
   "cell_type": "code",
   "execution_count": 5,
   "metadata": {
    "collapsed": true
   },
   "outputs": [],
   "source": [
    "def missing_md5sum_compare(f1, f2):\n",
    "    \" This only works for csv file \"\n",
    "    csvfile1 = open(f1,'r')\n",
    "    csvfile2 = open(f2, 'r')\n",
    "    f1_md5sum = []\n",
    "    f2_md5sum = []\n",
    "    f1_data = []\n",
    "    for row in csv.reader(csvfile1, delimiter = ' '):\n",
    "        f1_md5sum.append(row[0])\n",
    "        f1_data.append(row)\n",
    "        \n",
    "    for row in csv.reader(csvfile2, delimiter = ' '):\n",
    "        f2_md5sum.append(row[0])\n",
    "        \n",
    "    for i, j in enumerate(f1_md5sum):\n",
    "        #print (j)\n",
    "        if j not in f2_md5sum:\n",
    "            print (f1_data[i])\n",
    "    return f1_md5sum, f2_md5sum"
   ]
  },
  {
   "cell_type": "code",
   "execution_count": 7,
   "metadata": {
    "collapsed": true
   },
   "outputs": [],
   "source": [
    "s5_final_file = \"/mnt/hcp01/codes/conte_raw/outputs/final_md5_study5_raw.csv\""
   ]
  },
  {
   "cell_type": "code",
   "execution_count": 8,
   "metadata": {
    "collapsed": true
   },
   "outputs": [],
   "source": [
    "s5_other_file = \"/mnt/hcp01/codes/conte_raw/outputs/md5_study5_raw.csv\""
   ]
  },
  {
   "cell_type": "code",
   "execution_count": 14,
   "metadata": {
    "collapsed": false,
    "scrolled": true
   },
   "outputs": [
    {
     "name": "stdout",
     "output_type": "stream",
     "text": [
      "['38945c2118927782b063ca29acd9db6b', '', './SC03/SCO3_WIP_WIP_SELFORDER_1_SENSE_3_1.PAR']\n",
      "['8ff8200b9b410050141226f43c721411', '', './SC03/SCO3_WIP_WIP_SELFORDER_1_SENSE_3_1.REC']\n",
      "['9321d79dfbdad8a40affb551f6c42308', '', './SC05/SC_05_STUDY_5_WIP_WIP_SELFORDER_2_SENSE_5_1.PAR']\n",
      "['f574bc1707b5eae9ca95cb15a4f24350', '', './SC05/SC_05_STUDY_5_WIP_WIP_SELFORDER_2_SENSE_5_1.REC']\n",
      "['0ebb28fa9fd6fe36286712ae0d6c6e82', '', './SC08/CS05_SC08_WIP_WIP_SELFORDER_1_SENSE_3_1.PAR']\n",
      "['d048853e03ab9f2dec2558973802776e', '', './SC08/CS05_SC08_WIP_WIP_SELFORDER_1_SENSE_3_1.REC']\n"
     ]
    }
   ],
   "source": [
    "s5_other, s5_final = missing_md5sum_compare(s5_other_file, s5_final_file)"
   ]
  },
  {
   "cell_type": "code",
   "execution_count": 15,
   "metadata": {
    "collapsed": false
   },
   "outputs": [],
   "source": [
    "s4_final_file = \"/mnt/hcp01/codes/conte_raw/outputs/final_md5_study4_raw.csv\"\n",
    "s4_other_file = \"/mnt/hcp01/codes/conte_raw/outputs/md5_study4_raw.csv\""
   ]
  },
  {
   "cell_type": "code",
   "execution_count": 16,
   "metadata": {
    "collapsed": false
   },
   "outputs": [
    {
     "name": "stdout",
     "output_type": "stream",
     "text": [
      "['db9fd58a3fde2469850ee66a860e0909', '', './SC08/CS4_SC08_WIP_WIP_SELFORDER_1_SENSE_3_1.hdr']\n",
      "['03f64ff262f73ccaa1a6136d42465962', '', './SC08/CS4_SC08_WIP_WIP_SELFORDER_1_SENSE_3_1.img']\n"
     ]
    }
   ],
   "source": [
    "s4_other, s4_final = missing_md5sum_compare(s4_other_file, s4_final_file)"
   ]
  },
  {
   "cell_type": "code",
   "execution_count": 17,
   "metadata": {
    "collapsed": true
   },
   "outputs": [],
   "source": [
    "s3_final_file = \"/mnt/hcp01/codes/conte_raw/outputs/final_md5_study3_raw.csv\"\n",
    "s3_other_file = \"/mnt/hcp01/codes/conte_raw/outputs/md5_study3_raw.csv\""
   ]
  },
  {
   "cell_type": "code",
   "execution_count": 18,
   "metadata": {
    "collapsed": false
   },
   "outputs": [
    {
     "name": "stdout",
     "output_type": "stream",
     "text": [
      "['d9db258b9828c11765684c04158fe132', '', './SP01_DAR1020/DAR-1020-BASELINE_WIP_SELFORDER_1_SENSE_4_1.PAR']\n",
      "['66fc0b2b5c429ba2556a737bcb048057', '', './SP01_DAR1020/DAR-1020-BASELINE_WIP_SELFORDER_1_SENSE_4_1.REC']\n",
      "['4cdcd2ecc308f08fcb337a882d408df6', '', './SP01_DAR1020/dcmHeaders.mat']\n",
      "['82a0303eb58895363a54910d2bc7e9b0', '', './SP01_DAR1020/DAR-1020-BASELINE_WIP_SELFORDER_7_SENSE_11_1.PAR']\n",
      "['6ec541f53c7f6c2b94c3cc66249bbf54', '', './SP01_DAR1020/DAR-1020-BASELINE_WIP_SELFORDER_7_SENSE_11_1.REC']\n",
      "['2892bf3c726a78f36888d7ba51ec15c0', '', './SP01_DAR1020/DAR-1020-BASELINE_WIP_SELFORDER_7_SENSE_14_1.PAR']\n",
      "['c55cf06a30fc6eafb62601fe66332076', '', './SP01_DAR1020/DAR-1020-BASELINE_WIP_SELFORDER_7_SENSE_14_1.REC']\n",
      "['4b49464b4247e3ab1991cc6d9a1f070a', '', './SP02_DAR1021/DAR_1021_BASELINE_WIP_SELFORDER_1_SENSE_4_1.PAR']\n",
      "['a7f23df19ef3a3533a462720d8dba761', '', './SP02_DAR1021/DAR_1021_BASELINE_WIP_SELFORDER_1_SENSE_4_1.REC']\n",
      "['9a4f1c45468df8c321dd870b4022c4b1', '', './SP03_DAR1022/SP03_WIP_WIP_SELFORDER_3_SENSE_5_1.PAR']\n",
      "['2e9550aeb7886bb08cc54dc61c207285', '', './SP03_DAR1022/SP03_WIP_WIP_SELFORDER_3_SENSE_5_1.REC']\n",
      "['3e67651b6dfe30e93095c56c6b051506', '', './SP03_DAR1022/SP03_WIP_WIP_SELFORDER_3_SENSE_6_1.PAR']\n",
      "['962320cff244aa23e17e0ed4a69adf77', '', './SP03_DAR1022/SP03_WIP_WIP_SELFORDER_3_SENSE_6_1.REC']\n",
      "['fb340595ec19ffad33db383f992cdab5', '', './SP03_DAR1022/SP03_WIP_WIP_SELFORDER_6SENSE_SENSE_10_1.PAR']\n",
      "['5acc856dab9e608ed1a25d03ed6c19af', '', './SP03_DAR1022/SP03_WIP_WIP_SELFORDER_6SENSE_SENSE_10_1.REC']\n",
      "['1e87b7776da9cd32febc1028c42eb670', '', './SP03_DAR1022/SP03_WIP_WIP_SELFORDER_6SENSE_SENSE_11_1.PAR']\n",
      "['34aca4d992475d8c6a460a4a1670927a', '', './SP03_DAR1022/SP03_WIP_WIP_SELFORDER_6SENSE_SENSE_11_1.REC']\n",
      "['cd6f6de73a84ece054a9364d8f82c5a6', '', './SP05_DAR1029/DAR_1029_WIP_SELFORDER_2_SENSE_4_1.PAR']\n",
      "['23a9563d5c032d5191d283b2a5f7f4e8', '', './SP05_DAR1029/DAR_1029_WIP_SELFORDER_2_SENSE_4_1.REC']\n",
      "['9839ebb930660049458305c4af3c2491', '', './SP09_DAR1032/DAR1032_BENA73_v1_WIP_WIP_SELFORDER_5_SENSE_7_1.PAR']\n",
      "['982c4555b81e240f3e314bfe431a296e', '', './SP09_DAR1032/DAR1032_BENA73_v1_WIP_WIP_SELFORDER_5_SENSE_7_1.REC']\n",
      "['ad76d0ff3ffdd4886b6b0b080fee1845', '', './SP11_DAR1030/DAR1030_EDWT71_V1_WIP_WIP_SELFORDER_2_SENSE_4_1.PAR']\n",
      "['9498a976ef3e2d439d7cbfd6d7a09d31', '', './SP11_DAR1030/DAR1030_EDWT71_V1_WIP_WIP_SELFORDER_2_SENSE_4_1.REC']\n",
      "['52dca04f17fbddd45940dbf029c38bde', '', './SP14_DAR1035/DAR1035_WIP_WIP_SELFORDER_1_SENSE_3_1.PAR']\n",
      "['eca5aa7483fc9096947fc0d57d2fd792', '', './SP14_DAR1035/DAR1035_WIP_WIP_SELFORDER_1_SENSE_3_1.REC']\n",
      "['379e0de65262a48c90f47350794b0d6b', '', './orphaned/20120117_182305WIPWIPSELFORDER_8SENSEs012a001.nii.gz']\n"
     ]
    }
   ],
   "source": [
    "s3_other, s3_final = missing_md5sum_compare(s3_other_file, s3_final_file)"
   ]
  },
  {
   "cell_type": "code",
   "execution_count": null,
   "metadata": {
    "collapsed": true
   },
   "outputs": [],
   "source": []
  }
 ],
 "metadata": {
  "anaconda-cloud": {},
  "kernelspec": {
   "display_name": "Python [default]",
   "language": "python",
   "name": "python2"
  },
  "language_info": {
   "codemirror_mode": {
    "name": "ipython",
    "version": 2
   },
   "file_extension": ".py",
   "mimetype": "text/x-python",
   "name": "python",
   "nbconvert_exporter": "python",
   "pygments_lexer": "ipython2",
   "version": "2.7.12"
  }
 },
 "nbformat": 4,
 "nbformat_minor": 1
}
