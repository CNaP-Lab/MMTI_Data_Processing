{
 "cells": [
  {
   "cell_type": "code",
   "execution_count": 1,
   "metadata": {
    "collapsed": true
   },
   "outputs": [],
   "source": [
    "import numpy as np\n",
    "import os\n",
    "from os.path import basename"
   ]
  },
  {
   "cell_type": "markdown",
   "metadata": {},
   "source": [
    "### Get the basename of the pathname and compare, to check whther they are in any of the folders"
   ]
  },
  {
   "cell_type": "code",
   "execution_count": 2,
   "metadata": {
    "collapsed": true
   },
   "outputs": [],
   "source": [
    "def content_basename(f1, f2):\n",
    "    \"\"\"\n",
    "    This function will take two files(which has the pathname of the dir contents)\n",
    "    and read line by line and store those into separate\n",
    "    two lists. Also remove whitespace characters like `\\n` at the end of each line.\n",
    "    Then find the basename of the pathname and store in anotehr two lists\n",
    "    Finally check whether the file (basename) in the fist dir is presnet in the\n",
    "    second dir. Print out the pathnames not in the first dir.\n",
    "    \"\"\"\n",
    "    with open(f1) as f:\n",
    "        f1_data = f.readlines()\n",
    "    f1_data = [x.strip() for x in f1_data] \n",
    "    with open(f2) as f:\n",
    "        f2_data = f.readlines()\n",
    "    f2_data = [x.strip() for x in f2_data] \n",
    "    \n",
    "    f1_base = []\n",
    "    f2_base = []\n",
    "    \n",
    "    for i in f1_data:\n",
    "        f1_base.append(basename(i))\n",
    "        \n",
    "    for i in f2_data:\n",
    "        f2_base.append(basename(i))\n",
    "        \n",
    "    for i, j in enumerate(f1_base):\n",
    "        if j not in f2_base:\n",
    "            print (f1_data[i])\n",
    "    \n",
    "    return f1_base, f2_base"
   ]
  },
  {
   "cell_type": "code",
   "execution_count": 5,
   "metadata": {
    "collapsed": false
   },
   "outputs": [
    {
     "name": "stdout",
     "output_type": "stream",
     "text": [
      "/mnt/hcp01/codes\n"
     ]
    }
   ],
   "source": [
    "cd ..\n"
   ]
  },
  {
   "cell_type": "code",
   "execution_count": 6,
   "metadata": {
    "collapsed": false
   },
   "outputs": [
    {
     "name": "stdout",
     "output_type": "stream",
     "text": [
      "/mnt/hcp01/codes/outputs/conte_raw_S3_pathnames\n"
     ]
    }
   ],
   "source": [
    "cd outputs/conte_raw_S3_pathnames/"
   ]
  },
  {
   "cell_type": "code",
   "execution_count": 7,
   "metadata": {
    "collapsed": true
   },
   "outputs": [],
   "source": [
    "img_data_SP01, db_SP01 = content_basename(\"img_data_Study3_SP01.txt\", \"dropbox_Study3_SP01.txt\")"
   ]
  },
  {
   "cell_type": "code",
   "execution_count": 8,
   "metadata": {
    "collapsed": true
   },
   "outputs": [],
   "source": [
    "img_data_Sp02, db_SP02 = content_basename(\"img_data_Study3_SP02.txt\", \"dropbox_Study3_SP02.txt\")"
   ]
  },
  {
   "cell_type": "code",
   "execution_count": 9,
   "metadata": {
    "collapsed": true
   },
   "outputs": [],
   "source": [
    "img_data_SP03, db_Sp03 = content_basename(\"img_data_Study3_SP03.txt\", \"dropbox_Study3_SP03.txt\")"
   ]
  },
  {
   "cell_type": "code",
   "execution_count": 10,
   "metadata": {
    "collapsed": true
   },
   "outputs": [],
   "source": [
    "img_data_SP04, db_SP04 = content_basename(\"img_data_Study3_SP04.txt\", \"dropbox_Study3_SP04.txt\")"
   ]
  },
  {
   "cell_type": "code",
   "execution_count": 11,
   "metadata": {
    "collapsed": false
   },
   "outputs": [
    {
     "name": "stdout",
     "output_type": "stream",
     "text": [
      "./Day 1/SCAN data/check\n"
     ]
    }
   ],
   "source": [
    "img_data_SP05, db_SP05 = content_basename(\"img_data_Study3_SP05.txt\", \"dropbox_Study3_SP05.txt\")"
   ]
  },
  {
   "cell_type": "code",
   "execution_count": 12,
   "metadata": {
    "collapsed": true
   },
   "outputs": [],
   "source": [
    "img_data_SP06, db_SP06 = content_basename(\"img_data_Study3_SP06.txt\", \"dropbox_Study3_SP06.txt\")"
   ]
  },
  {
   "cell_type": "code",
   "execution_count": 13,
   "metadata": {
    "collapsed": true
   },
   "outputs": [],
   "source": [
    "img_data_SP07, db_SP07 = content_basename(\"img_data_Study3_SP07.txt\", \"dropbox_Study3_SP07.txt\")"
   ]
  },
  {
   "cell_type": "code",
   "execution_count": 14,
   "metadata": {
    "collapsed": true
   },
   "outputs": [],
   "source": [
    "img_data_SP08, db_SP08 = content_basename(\"img_data_Study3_SP08.txt\", \"dropbox_Study3_SP08.txt\")"
   ]
  },
  {
   "cell_type": "code",
   "execution_count": 15,
   "metadata": {
    "collapsed": true
   },
   "outputs": [],
   "source": [
    "img_data_SP09, db_SP09 = content_basename(\"img_data_Study3_SP09.txt\", \"dropbox_Study3_SP09.txt\")"
   ]
  },
  {
   "cell_type": "code",
   "execution_count": 16,
   "metadata": {
    "collapsed": true
   },
   "outputs": [],
   "source": [
    "img_data_SP10, db_SP10 = content_basename(\"img_data_Study3_SP10.txt\", \"dropbox_Study3_SP10.txt\")"
   ]
  },
  {
   "cell_type": "code",
   "execution_count": 17,
   "metadata": {
    "collapsed": true
   },
   "outputs": [],
   "source": [
    "img_data_SP11, db_SP11 = content_basename(\"img_data_Study3_SP11.txt\", \"dropbox_Study3_SP11.txt\")"
   ]
  },
  {
   "cell_type": "code",
   "execution_count": 18,
   "metadata": {
    "collapsed": true
   },
   "outputs": [],
   "source": [
    "img_data_SP12, db_SP12 = content_basename(\"img_data_Study3_SP12.txt\", \"dropbox_Study3_SP12.txt\")"
   ]
  },
  {
   "cell_type": "code",
   "execution_count": 21,
   "metadata": {
    "collapsed": true
   },
   "outputs": [],
   "source": [
    "img_data_SP13, db_SP13 = content_basename(\"img_data_Study3_SP13.txt\", \"dropbox_Study3_SP13.txt\")"
   ]
  },
  {
   "cell_type": "code",
   "execution_count": 22,
   "metadata": {
    "collapsed": true
   },
   "outputs": [],
   "source": [
    "img_data_SP14, db_SP14 = content_basename(\"img_data_Study3_SP14.txt\", \"dropbox_Study3_SP14.txt\")"
   ]
  },
  {
   "cell_type": "code",
   "execution_count": 24,
   "metadata": {
    "collapsed": true
   },
   "outputs": [],
   "source": [
    "img_data_SP15, db_SP15 = content_basename(\"img_data_Study3_SP15.txt\", \"dropbox_Study3_SP15.txt\")"
   ]
  },
  {
   "cell_type": "code",
   "execution_count": 25,
   "metadata": {
    "collapsed": true
   },
   "outputs": [],
   "source": [
    "img_data_SP16, db_SP16 = content_basename(\"img_data_Study3_SP16.txt\", \"dropbox_Study3_SP16.txt\")"
   ]
  },
  {
   "cell_type": "code",
   "execution_count": 27,
   "metadata": {
    "collapsed": true
   },
   "outputs": [],
   "source": [
    "img_data_SP17, db_SP17 = content_basename(\"img_data_Study3_SP17.txt\", \"dropbox_Study3_SP17.txt\")"
   ]
  },
  {
   "cell_type": "code",
   "execution_count": 28,
   "metadata": {
    "collapsed": true
   },
   "outputs": [],
   "source": [
    "img_data_SP18, db_SP18 = content_basename(\"img_data_Study3_SP18.txt\", \"dropbox_Study3_SP18.txt\")"
   ]
  },
  {
   "cell_type": "code",
   "execution_count": 29,
   "metadata": {
    "collapsed": true
   },
   "outputs": [],
   "source": [
    "img_data_SP19, db_SP19 = content_basename(\"img_data_Study3_SP19.txt\", \"dropbox_Study3_SP19.txt\")"
   ]
  },
  {
   "cell_type": "code",
   "execution_count": 30,
   "metadata": {
    "collapsed": true
   },
   "outputs": [],
   "source": [
    "img_data_SP20, db_SP20 = content_basename(\"img_data_Study3_SP20.txt\", \"dropbox_Study3_SP20.txt\")"
   ]
  },
  {
   "cell_type": "code",
   "execution_count": 31,
   "metadata": {
    "collapsed": true
   },
   "outputs": [],
   "source": [
    "img_data_SP21, db_SP21 = content_basename(\"img_data_Study3_SP21.txt\", \"dropbox_Study3_SP21.txt\")"
   ]
  },
  {
   "cell_type": "code",
   "execution_count": 32,
   "metadata": {
    "collapsed": true
   },
   "outputs": [],
   "source": [
    "img_data_SP22, db_SP22 = content_basename(\"img_data_Study3_SP22.txt\", \"dropbox_Study3_SP22.txt\")"
   ]
  },
  {
   "cell_type": "code",
   "execution_count": 33,
   "metadata": {
    "collapsed": true
   },
   "outputs": [],
   "source": [
    "img_data_SP23, db_SP23 = content_basename(\"img_data_Study3_SP23.txt\", \"dropbox_Study3_SP23.txt\")"
   ]
  },
  {
   "cell_type": "code",
   "execution_count": 34,
   "metadata": {
    "collapsed": true
   },
   "outputs": [],
   "source": [
    "img_data_SP24, db_SP24 = content_basename(\"img_data_Study3_SP24.txt\", \"dropbox_Study3_SP24.txt\")"
   ]
  },
  {
   "cell_type": "code",
   "execution_count": 35,
   "metadata": {
    "collapsed": true
   },
   "outputs": [],
   "source": [
    "img_data_SP25, db_SP25 = content_basename(\"img_data_Study3_SP25.txt\", \"dropbox_Study3_SP25.txt\")"
   ]
  },
  {
   "cell_type": "code",
   "execution_count": 36,
   "metadata": {
    "collapsed": true
   },
   "outputs": [],
   "source": [
    "img_data_SP26, db_SP26 = content_basename(\"img_data_Study3_SP26.txt\", \"dropbox_Study3_SP26.txt\")"
   ]
  },
  {
   "cell_type": "code",
   "execution_count": 38,
   "metadata": {
    "collapsed": true
   },
   "outputs": [],
   "source": [
    "img_data_SP27, db_SP27 = content_basename(\"img_data_Study3_SP27.txt\", \"dropbox_Study3_SP27.txt\")"
   ]
  },
  {
   "cell_type": "code",
   "execution_count": 39,
   "metadata": {
    "collapsed": true
   },
   "outputs": [],
   "source": [
    "img_data_SP28, db_SP28 = content_basename(\"img_data_Study3_SP28.txt\", \"dropbox_Study3_SP28.txt\")"
   ]
  },
  {
   "cell_type": "code",
   "execution_count": 40,
   "metadata": {
    "collapsed": true
   },
   "outputs": [],
   "source": [
    "img_data_SP29, db_SP29 = content_basename(\"img_data_Study3_SP29.txt\", \"dropbox_Study3_SP29.txt\")"
   ]
  },
  {
   "cell_type": "code",
   "execution_count": 41,
   "metadata": {
    "collapsed": true
   },
   "outputs": [],
   "source": [
    "img_data_SP30, db_SP30 = content_basename(\"img_data_Study3_SP30.txt\", \"dropbox_Study3_SP30.txt\")"
   ]
  },
  {
   "cell_type": "code",
   "execution_count": 42,
   "metadata": {
    "collapsed": true
   },
   "outputs": [],
   "source": [
    "img_data_SP31, db_SP31 = content_basename(\"img_data_Study3_SP31.txt\", \"dropbox_Study3_SP31.txt\")"
   ]
  },
  {
   "cell_type": "code",
   "execution_count": 43,
   "metadata": {
    "collapsed": true
   },
   "outputs": [],
   "source": [
    "img_data_SP32, db_SP32 = content_basename(\"img_data_Study3_SP32.txt\", \"dropbox_Study3_SP32.txt\")"
   ]
  },
  {
   "cell_type": "code",
   "execution_count": 44,
   "metadata": {
    "collapsed": true
   },
   "outputs": [],
   "source": [
    "img_data_SP33, db_SP33 = content_basename(\"img_data_Study3_SP33.txt\", \"dropbox_Study3_SP33.txt\")"
   ]
  },
  {
   "cell_type": "code",
   "execution_count": 45,
   "metadata": {
    "collapsed": true
   },
   "outputs": [],
   "source": [
    "img_data_SP35, db_SP35 = content_basename(\"img_data_Study3_SP35.txt\", \"dropbox_Study3_SP35.txt\")"
   ]
  },
  {
   "cell_type": "code",
   "execution_count": 47,
   "metadata": {
    "collapsed": true
   },
   "outputs": [],
   "source": [
    "img_data_SP36, db_SP36 = content_basename(\"img_data_Study3_SP36.txt\", \"dropbox_Study3_SP36.txt\")"
   ]
  },
  {
   "cell_type": "code",
   "execution_count": 48,
   "metadata": {
    "collapsed": true
   },
   "outputs": [],
   "source": [
    "img_data_SP37, db_SP37 = content_basename(\"img_data_Study3_SP37.txt\", \"dropbox_Study3_SP37.txt\")"
   ]
  },
  {
   "cell_type": "code",
   "execution_count": 49,
   "metadata": {
    "collapsed": true
   },
   "outputs": [],
   "source": [
    "img_data_Sp38, db_SP38 = content_basename(\"img_data_Study3_SP38.txt\", \"dropbox_Study3_SP38.txt\")"
   ]
  },
  {
   "cell_type": "code",
   "execution_count": 51,
   "metadata": {
    "collapsed": true
   },
   "outputs": [],
   "source": [
    "img_data_SP39, db_SP39 = content_basename(\"img_data_Study3_SP39.txt\", \"dropbox_Study3_SP39.txt\")"
   ]
  },
  {
   "cell_type": "code",
   "execution_count": 52,
   "metadata": {
    "collapsed": true
   },
   "outputs": [],
   "source": [
    "img_data_SP40, db_SP40 = content_basename(\"img_data_Study3_SP40.txt\", \"dropbox_Study3_SP40.txt\")"
   ]
  },
  {
   "cell_type": "code",
   "execution_count": 53,
   "metadata": {
    "collapsed": true
   },
   "outputs": [],
   "source": [
    "img_data_SP41, db_Sp41 = content_basename(\"img_data_Study3_SP41.txt\", \"dropbox_Study3_SP41.txt\")"
   ]
  },
  {
   "cell_type": "code",
   "execution_count": 54,
   "metadata": {
    "collapsed": true
   },
   "outputs": [],
   "source": [
    "img_data_SP42, db_SP42 = content_basename(\"img_data_Study3_SP42.txt\", \"dropbox_Study3_SP42.txt\")"
   ]
  },
  {
   "cell_type": "code",
   "execution_count": 55,
   "metadata": {
    "collapsed": true
   },
   "outputs": [],
   "source": [
    "img_data_SP43, db_SP43 = content_basename(\"img_data_Study3_SP43.txt\", \"dropbox_Study3_SP43.txt\")"
   ]
  },
  {
   "cell_type": "code",
   "execution_count": 56,
   "metadata": {
    "collapsed": true
   },
   "outputs": [],
   "source": [
    "img_data_SP44, db_SP44 = content_basename(\"img_data_Study3_SP44.txt\", \"dropbox_Study3_SP44.txt\")"
   ]
  },
  {
   "cell_type": "code",
   "execution_count": 57,
   "metadata": {
    "collapsed": true
   },
   "outputs": [],
   "source": [
    "img_data_SP45, db_SP45 = content_basename(\"img_data_Study3_SP45.txt\", \"dropbox_Study3_SP45.txt\")"
   ]
  },
  {
   "cell_type": "code",
   "execution_count": 58,
   "metadata": {
    "collapsed": true
   },
   "outputs": [],
   "source": [
    "img_data_SP46, db_SP46 = content_basename(\"img_data_Study3_SP46.txt\", \"dropbox_Study3_SP46.txt\")"
   ]
  },
  {
   "cell_type": "code",
   "execution_count": 59,
   "metadata": {
    "collapsed": true
   },
   "outputs": [],
   "source": [
    "img_data_SP47, db_SP47 = content_basename(\"img_data_Study3_SP47.txt\", \"dropbox_Study3_SP47.txt\")"
   ]
  },
  {
   "cell_type": "code",
   "execution_count": 83,
   "metadata": {
    "collapsed": true
   },
   "outputs": [],
   "source": [
    "img_data_SP48, db_SP48 = content_basename(\"img_data_Study3_SP48.txt\", \"dropbox_Study3_SP48.txt\")"
   ]
  },
  {
   "cell_type": "code",
   "execution_count": 61,
   "metadata": {
    "collapsed": true
   },
   "outputs": [],
   "source": [
    "img_data_SP49, db_SP49 = content_basename(\"img_data_Study3_SP49.txt\", \"dropbox_Study3_SP49.txt\")"
   ]
  },
  {
   "cell_type": "code",
   "execution_count": 62,
   "metadata": {
    "collapsed": true
   },
   "outputs": [],
   "source": [
    "img_data_SP50, db_SP50 = content_basename(\"img_data_Study3_SP50.txt\", \"dropbox_Study3_SP50.txt\")"
   ]
  },
  {
   "cell_type": "code",
   "execution_count": 63,
   "metadata": {
    "collapsed": true
   },
   "outputs": [],
   "source": [
    "img_data_SP51, db_SP51 = content_basename(\"img_data_Study3_SP51.txt\", \"dropbox_Study3_SP51.txt\")"
   ]
  },
  {
   "cell_type": "code",
   "execution_count": 64,
   "metadata": {
    "collapsed": true
   },
   "outputs": [],
   "source": [
    "img_data_SP52, db_SP52 = content_basename(\"img_data_Study3_SP52.txt\", \"dropbox_Study3_SP52.txt\")"
   ]
  },
  {
   "cell_type": "code",
   "execution_count": 65,
   "metadata": {
    "collapsed": true
   },
   "outputs": [],
   "source": [
    "img_data_SP53, db_SP53 = content_basename(\"img_data_Study3_SP53.txt\", \"dropbox_Study3_SP53.txt\")"
   ]
  },
  {
   "cell_type": "code",
   "execution_count": 66,
   "metadata": {
    "collapsed": true
   },
   "outputs": [],
   "source": [
    "img_data_SP54, db_SP54 = content_basename(\"img_data_Study3_SP54.txt\", \"dropbox_Study3_SP54.txt\")"
   ]
  },
  {
   "cell_type": "code",
   "execution_count": 67,
   "metadata": {
    "collapsed": true
   },
   "outputs": [],
   "source": [
    "img_data_SP55, db_SP55 = content_basename(\"img_data_Study3_SP55.txt\", \"dropbox_Study3_SP55.txt\")"
   ]
  },
  {
   "cell_type": "code",
   "execution_count": 68,
   "metadata": {
    "collapsed": true
   },
   "outputs": [],
   "source": [
    "img_data_SP56, db_SP56 = content_basename(\"img_data_Study3_SP56.txt\", \"dropbox_Study3_SP56.txt\")"
   ]
  },
  {
   "cell_type": "code",
   "execution_count": 74,
   "metadata": {
    "collapsed": true
   },
   "outputs": [],
   "source": [
    "img_data_SP57, db_SP57 = content_basename(\"img_data_Study3_SP57.txt\", \"dropbox_Study3_SP57.txt\")"
   ]
  },
  {
   "cell_type": "code",
   "execution_count": 75,
   "metadata": {
    "collapsed": true
   },
   "outputs": [],
   "source": [
    "img_data_SP58, db_SP58 = content_basename(\"img_data_Study3_SP58.txt\", \"dropbox_Study3_SP58.txt\")"
   ]
  },
  {
   "cell_type": "code",
   "execution_count": 76,
   "metadata": {
    "collapsed": true
   },
   "outputs": [],
   "source": [
    "img_data_SP59, db_SP59 = content_basename(\"img_data_Study3_SP59.txt\", \"dropbox_Study3_SP59.txt\")"
   ]
  },
  {
   "cell_type": "code",
   "execution_count": 77,
   "metadata": {
    "collapsed": true
   },
   "outputs": [],
   "source": [
    "img_data_SP60, db_SP60 = content_basename(\"img_data_Study3_SP60.txt\", \"dropbox_Study3_SP60.txt\")"
   ]
  },
  {
   "cell_type": "code",
   "execution_count": 79,
   "metadata": {
    "collapsed": false
   },
   "outputs": [
    {
     "name": "stdout",
     "output_type": "stream",
     "text": [
      "./Day_1/scan_data/check\n"
     ]
    }
   ],
   "source": [
    "img_data_SP61, db_SP61 = content_basename(\"img_data_Study3_SP61.txt\",\"dropbox_Study3_SP61.txt\" )"
   ]
  },
  {
   "cell_type": "code",
   "execution_count": 80,
   "metadata": {
    "collapsed": true
   },
   "outputs": [],
   "source": [
    "img_data_SP63, db_SP63 = content_basename(\"img_data_Study3_SP63.txt\", \"dropbox_Study3_SP63.txt\")"
   ]
  },
  {
   "cell_type": "code",
   "execution_count": 81,
   "metadata": {
    "collapsed": false
   },
   "outputs": [
    {
     "name": "stdout",
     "output_type": "stream",
     "text": [
      "./DAR1025_FRET76_V1_SPGR_SENSE_18_12015     3    12    18    35    18.PAR\n",
      "./DAR1025_FRET76_V1_SPGR_SENSE_18_12015     3    12    18    35    18.REC\n",
      "./DAR1025_FRET76_V1_WIP_WIP_SELFORDER_5_SENSE_7_12015     3    12    15    19    17.REC\n",
      "./DAR1025_FRET76_V1_WIP_WIP_SELFORDER_1_SENSE_3_12015     3    12    15    19    26.PAR\n",
      "./DAR1025_FRET76_V1_WIP_WIP_SELFORDER_5_SENSE_7_12015     3    12    15    19    17.PAR\n",
      "./DAR1025_FRET76_V1_WIP_WIP_SELFORDER_1_SENSE_3_12015     3    12    15    19    26.REC\n",
      "./DAR1025_FRET76_V1_WIP_WIP_SELFORDER_2_SENSE_4_12015     3    12    15    19    49.PAR\n",
      "./DAR1025_FRET76_V1_WIP_WIP_SELFORDER_2_SENSE_4_12015     3    12    15    19    49.REC\n",
      "./DAR1025_FRET76_V1_WIP_WIP_SELFORDER_6_SENSE_8_12015     3    12    15    19    40.PAR\n",
      "./DAR1025_FRET76_V1_WIP_WIP_SELFORDER_3_SENSE_5_12015     3    12    15    19    21.PAR\n",
      "./DAR1025_FRET76_V1_WIP_WIP_SELFORDER_6_SENSE_8_12015     3    12    15    19    40.REC\n",
      "./DAR1025_FRET76_V1_WIP_WIP_SELFORDER_3_SENSE_5_12015     3    12    15    19    21.REC\n",
      "./DAR1025_FRET76_V1_WIP_WIP_SELFORDER_4_SENSE_6_12015     3    12    15    19    35.PAR\n",
      "./DAR1025_FRET76_V1_WIP_WIP_SELFORDER_7_SENSE_9_12015     3    12    15    19    45.REC\n",
      "./DAR1025_FRET76_V1_WIP_WIP_SELFORDER_4_SENSE_6_12015     3    12    15    19    35.REC\n",
      "./DAR1025_FRET76_V1_WIP_WIP_SELFORDER_7_SENSE_9_12015     3    12    15    19    45.PAR\n",
      "./DAR1028_WIP_WIP_SELFORDER_9_SENSE_16_12015     3    12    15    21    13.REC\n",
      "./DAR1025_FRET76_V1_WIP_WIP_SELFORDER_8_SENSE_10_12015     3    12    15    19    31.PAR\n",
      "./DAR1025_FRET76_V1_WIP_WIP_SELFORDER_8_SENSE_10_12015     3    12    15    19    31.REC\n",
      "./DAR1025_FRET76_V1_WIP_WIP_SELFORDER_9_SENSE_11_12015     3    12    15    19    12.PAR\n",
      "./DAR1025_FRET76_V1_WIP_WIP_SELFORDER_9_SENSE_11_12015     3    12    15    19    12.REC\n",
      "./DAR1028_WIP_WIP_SELFORDER_1_SENSE_3_12015     3    12    15    21    23.PAR\n",
      "./DAR1028_WIP_WIP_SELFORDER_1_SENSE_3_12015     3    12    15    21    23.REC\n",
      "./DAR1028_WIP_WIP_SELFORDER_2_SENSE_4_12015     3    12    15    20    36.PAR\n",
      "./DAR1028_WIP_WIP_SELFORDER_2_SENSE_4_12015     3    12    15    20    36.REC\n",
      "./DAR1028_WIP_WIP_SELFORDER_3_SENSE_7_12015     3    12    15    21    18.PAR\n",
      "./DAR1028_WIP_WIP_SELFORDER_3_SENSE_7_12015     3    12    15    21    18.REC\n",
      "./DAR1028_WIP_WIP_SELFORDER_4_SENSE_8_12015     3    12    15    20    55.PAR\n",
      "./DAR1028_WIP_WIP_SELFORDER_4_SENSE_8_12015     3    12    15    20    55.REC\n",
      "./DAR1028_WIP_WIP_SELFORDER_5_SENSE_9_12015     3    12    15    20    59.PAR\n",
      "./DAR1028_WIP_WIP_SELFORDER_5_SENSE_9_12015     3    12    15    20    59.REC\n",
      "./DAR1028_WIP_WIP_SELFORDER_6_SENSE_13_12015     3    12    15    21    55.PAR\n",
      "./DAR1028_WIP_WIP_SELFORDER_6_SENSE_13_12015     3    12    15    21    55.REC\n",
      "./DAR1028_WIP_WIP_SELFORDER_7_SENSE_14_12015     3    12    15    21    46.PAR\n",
      "./DAR1028_WIP_WIP_SELFORDER_7_SENSE_14_12015     3    12    15    21    46.REC\n",
      "./DAR1028_WIP_WIP_SELFORDER_8_SENSE_15_12015     3    12    15    21     4.PAR\n",
      "./DAR1028_WIP_WIP_SELFORDER_8_SENSE_15_12015     3    12    15    21     4.REC\n",
      "./DAR1028_WIP_WIP_SELFORDER_9_SENSE_16_12015     3    12    15    21    13.PAR\n"
     ]
    }
   ],
   "source": [
    "work_SP06, db_SP06w = content_basename(\"work_Study3_SP06.txt\", \"dropbox_Study3_SP06.txt\")"
   ]
  },
  {
   "cell_type": "code",
   "execution_count": 82,
   "metadata": {
    "collapsed": false
   },
   "outputs": [
    {
     "name": "stdout",
     "output_type": "stream",
     "text": [
      "./DAR1081_V1_WIP_WIP_SELFORDER_1_SENSE_3_12015     3    12    15    37    39.PAR\n",
      "./DAR1081_V1_WIP_WIP_SELFORDER_1_SENSE_3_12015     3    12    15    37    39.REC\n",
      "./DAR1081_V1_WIP_WIP_SELFORDER_6_SENSE_8_12015     3    12    15    37    49.PAR\n",
      "./DAR1081_V1_WIP_WIP_SELFORDER_2_SENSE_4_12015     3    12    15    38     7.PAR\n",
      "./DAR1081_V1_WIP_WIP_SELFORDER_6_SENSE_8_12015     3    12    15    37    49.REC\n",
      "./DAR1081_V1_WIP_WIP_SELFORDER_2_SENSE_4_12015     3    12    15    38     7.REC\n",
      "./DAR1081_V1_WIP_WIP_SELFORDER_3_SENSE_5_12015     3    12    15    37    58.PAR\n",
      "./DAR1081_V1_WIP_WIP_SELFORDER_3_SENSE_5_12015     3    12    15    37    58.REC\n",
      "./DAR1081_V1_WIP_WIP_SELFORDER_7_SENSE_9_12015     3    12    15    37    53.PAR\n",
      "./DAR1081_V1_WIP_WIP_SELFORDER_4_SENSE_6_12015     3    12    15    37    44.PAR\n",
      "./DAR1081_V1_WIP_WIP_SELFORDER_4_SENSE_6_12015     3    12    15    37    44.REC\n",
      "./DAR1081_V1_WIP_WIP_SELFORDER_7_SENSE_9_12015     3    12    15    37    53.REC\n",
      "./DAR1081_V1_WIP_WIP_SELFORDER_5_SENSE_7_12015     3    12    15    37    30.PAR\n",
      "./DAR1081_V1_WIP_WIP_SELFORDER_5_SENSE_7_12015     3    12    15    37    30.REC\n",
      "./DAR1081_V1_WIP_WIP_SELFORDER_8_SENSE_10_12015     3    12    15    37    35.PAR\n",
      "./DAR1081_V1_WIP_WIP_SELFORDER_8_SENSE_10_12015     3    12    15    37    35.REC\n",
      "./DAR1081_V1_WIP_WIP_SELFORDER_9_SENSE_11_12015     3    12    15    38     3.PAR\n",
      "./DAR1081_V1_WIP_WIP_SELFORDER_9_SENSE_11_12015     3    12    15    38     3.REC\n"
     ]
    }
   ],
   "source": [
    "work_SP56, db_56w = content_basename(\"work_Study3_SP56.txt\", \"dropbox_Study3_SP56.txt\")"
   ]
  }
 ],
 "metadata": {
  "anaconda-cloud": {},
  "kernelspec": {
   "display_name": "Python 3",
   "language": "python",
   "name": "python3"
  },
  "language_info": {
   "codemirror_mode": {
    "name": "ipython",
    "version": 3
   },
   "file_extension": ".py",
   "mimetype": "text/x-python",
   "name": "python",
   "nbconvert_exporter": "python",
   "pygments_lexer": "ipython3",
   "version": "3.5.4"
  }
 },
 "nbformat": 4,
 "nbformat_minor": 2
}
